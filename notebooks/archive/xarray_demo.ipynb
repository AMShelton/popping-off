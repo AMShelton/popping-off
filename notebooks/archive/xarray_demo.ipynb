{
 "cells": [
  {
   "cell_type": "code",
   "execution_count": 1,
   "metadata": {},
   "outputs": [],
   "source": [
    "import numpy as np\n",
    "import xarray as xr"
   ]
  },
  {
   "cell_type": "code",
   "execution_count": 2,
   "metadata": {},
   "outputs": [],
   "source": [
    "## We'll create two sessions to toy around with:\n",
    "## Let's assume we have extracted the neural data, in \n",
    "## format (cells x trials x frames), with slighty differing \n",
    "## size for each session. \n",
    "session_1 = np.random.randn(500, 230, 60)  # (cells x trials x frames)\n",
    "time_array_1 = np.linspace(-2, 4, 60)  # a time array (relative to stimulus onset)\n",
    "session_2 = np.random.randn(430, 250, 62)\n",
    "time_array_2 = np.linspace(-2, 4, 62)\n",
    "\n",
    "def create_data_array(sess, time_array):\n",
    "    '''Function to create data array from session'''\n",
    "    assert type(sess) == np.ndarray\n",
    "    assert len(time_array) == sess.shape[2]\n",
    "    \n",
    "    da = xr.DataArray(sess, \n",
    "                      dims=('cell', 'trial', 'time'),  # names of dimensions of the session np.ndarray\n",
    "                      coords={'cell': np.arange(sess.shape[0]),  # Here we can define the dimensions\n",
    "                              'trial': np.arange(sess.shape[1]),\n",
    "                              'time': time_array})\n",
    "    da.attrs['frequency'] = np.mean(np.diff(time_array))  # perhaps some extra info\n",
    "    return da"
   ]
  },
  {
   "cell_type": "code",
   "execution_count": 3,
   "metadata": {},
   "outputs": [],
   "source": [
    "## Let's create the data arrays\n",
    "da_1 = create_data_array(sess=session_1, time_array=time_array_1)\n",
    "da_2 = create_data_array(sess=session_2, time_array=time_array_2)"
   ]
  },
  {
   "cell_type": "code",
   "execution_count": 4,
   "metadata": {},
   "outputs": [
    {
     "name": "stdout",
     "output_type": "stream",
     "text": [
      "<xarray.DataArray 'time' (time: 60)>\n",
      "array([-2.      , -1.898305, -1.79661 , -1.694915, -1.59322 , -1.491525,\n",
      "       -1.389831, -1.288136, -1.186441, -1.084746, -0.983051, -0.881356,\n",
      "       -0.779661, -0.677966, -0.576271, -0.474576, -0.372881, -0.271186,\n",
      "       -0.169492, -0.067797,  0.033898,  0.135593,  0.237288,  0.338983,\n",
      "        0.440678,  0.542373,  0.644068,  0.745763,  0.847458,  0.949153,\n",
      "        1.050847,  1.152542,  1.254237,  1.355932,  1.457627,  1.559322,\n",
      "        1.661017,  1.762712,  1.864407,  1.966102,  2.067797,  2.169492,\n",
      "        2.271186,  2.372881,  2.474576,  2.576271,  2.677966,  2.779661,\n",
      "        2.881356,  2.983051,  3.084746,  3.186441,  3.288136,  3.389831,\n",
      "        3.491525,  3.59322 ,  3.694915,  3.79661 ,  3.898305,  4.      ])\n",
      "Coordinates:\n",
      "  * time     (time) float64 -2.0 -1.898 -1.797 -1.695 ... 3.695 3.797 3.898 4.0\n"
     ]
    }
   ],
   "source": [
    "## DataArray now contain meta data such as the time axis:\n",
    "print(da_1.time)\n",
    "## which can be different per data array:\n",
    "assert da_1.frequency > da_2.frequency"
   ]
  },
  {
   "cell_type": "code",
   "execution_count": 5,
   "metadata": {},
   "outputs": [],
   "source": [
    "## The cool thing comes when we create a xr.Dataset\n",
    "## A Dataset contains (at least 1) xr.DataArray, but can \n",
    "## contain additional coordinates, with extra indexed info such as \n",
    "## s1_bool for example\n",
    "\n",
    "def create_data_set(da):\n",
    "    assert type(da) == xr.DataArray\n",
    "    \n",
    "    # Let's create some (mock) Variables first:\n",
    "    s1_bool = np.random.randint(low=0, high=2, size=len(da.cell), dtype='bool')  # random bools\n",
    "    s2_bool = np.logical_not(s1_bool)\n",
    "    frames = np.arange(len(da.time))  # array from 0:len(time)\n",
    "    trial_type = np.zeros(len(da.trial), dtype='object')  # dtype object to allow strings\n",
    "    trial_type[:int(len(da_1.trial) / 3)] = 'w'\n",
    "    trial_type[int(len(da_1.trial) / 3):int(len(da_1.trial) * 3 / 4)] = 'rob'  # sorry got a bit carried away\n",
    "    trial_type[int(len(da_1.trial) * 3 / 4):] = 'lees'  # noice\n",
    "    \n",
    "    ds = xr.Dataset({'data': da},  # first give the dataArray. You can add multiple in this dictionary form \n",
    "                    coords={'s1_bool': ('cell', s1_bool),  # here we add a new coordinate, and we bind it to the dimension 'cell'\n",
    "                            's2_bool': ('cell', s2_bool),\n",
    "                            'frame': ('time', frames),\n",
    "                            'trial_type': ('trial', trial_type)})\n",
    "    ds.attrs['frequency'] = da.frequency  # we have to redefine this I'm afraid (might as well have done it here in the first place)\n",
    "    return ds"
   ]
  },
  {
   "cell_type": "code",
   "execution_count": 6,
   "metadata": {},
   "outputs": [
    {
     "name": "stdout",
     "output_type": "stream",
     "text": [
      "<xarray.Dataset>\n",
      "Dimensions:     (cell: 500, time: 60, trial: 230)\n",
      "Coordinates:\n",
      "  * cell        (cell) int64 0 1 2 3 4 5 6 7 ... 492 493 494 495 496 497 498 499\n",
      "  * trial       (trial) int64 0 1 2 3 4 5 6 7 ... 223 224 225 226 227 228 229\n",
      "  * time        (time) float64 -2.0 -1.898 -1.797 -1.695 ... 3.797 3.898 4.0\n",
      "    s1_bool     (cell) bool True False True False False ... True False True True\n",
      "    s2_bool     (cell) bool False True False True ... False True False False\n",
      "    frame       (time) int64 0 1 2 3 4 5 6 7 8 9 ... 51 52 53 54 55 56 57 58 59\n",
      "    trial_type  (trial) object 'w' 'w' 'w' 'w' ... 'lees' 'lees' 'lees' 'lees'\n",
      "Data variables:\n",
      "    data        (cell, trial, time) float64 1.604 -1.035 1.016 ... 1.193 1.641\n",
      "Attributes:\n",
      "    frequency:  0.1016949152542373\n"
     ]
    }
   ],
   "source": [
    "## Ooh yes\n",
    "ds_1 = create_data_set(da_1)\n",
    "ds_2 = create_data_set(da_2)\n",
    "\n",
    "## Beautiful! Everything is in there:\n",
    "print(ds_1)\n",
    "## (see how only cell, trial and time are denoted with an * meaning they're the primary coordinates)"
   ]
  },
  {
   "cell_type": "markdown",
   "metadata": {},
   "source": [
    "# And now come the perks:"
   ]
  },
  {
   "cell_type": "code",
   "execution_count": 7,
   "metadata": {},
   "outputs": [
    {
     "name": "stdout",
     "output_type": "stream",
     "text": [
      "<xarray.Dataset>\n",
      "Dimensions:     (cell: 500, time: 60, trial: 3)\n",
      "Coordinates:\n",
      "  * cell        (cell) int64 0 1 2 3 4 5 6 7 ... 492 493 494 495 496 497 498 499\n",
      "  * trial       (trial) int64 42 43 44\n",
      "  * time        (time) float64 -2.0 -1.898 -1.797 -1.695 ... 3.797 3.898 4.0\n",
      "    s1_bool     (cell) bool True False True False False ... True False True True\n",
      "    s2_bool     (cell) bool False True False True ... False True False False\n",
      "    frame       (time) int64 0 1 2 3 4 5 6 7 8 9 ... 51 52 53 54 55 56 57 58 59\n",
      "    trial_type  (trial) object 'w' 'w' 'w'\n",
      "Data variables:\n",
      "    data        (cell, trial, time) float64 0.4524 -1.434 ... -0.3506 -0.1327\n",
      "Attributes:\n",
      "    frequency:  0.1016949152542373\n"
     ]
    }
   ],
   "source": [
    "## index primary coordinates by name\n",
    "print(ds_1.sel(trial=np.array([42, 43, 44])))\n",
    "\n",
    "## Note that regular numpy indexing is only available for DataArrays,\n",
    "## not Datasets:\n",
    "# da_1[:, np.array([42, 43, 44]), :]"
   ]
  },
  {
   "cell_type": "code",
   "execution_count": 8,
   "metadata": {},
   "outputs": [
    {
     "data": {
      "text/plain": [
       "<xarray.Dataset>\n",
       "Dimensions:     (cell: 233, time: 60, trial: 230)\n",
       "Coordinates:\n",
       "  * cell        (cell) int64 0 2 5 6 7 8 9 11 ... 487 488 489 494 496 498 499\n",
       "  * trial       (trial) int64 0 1 2 3 4 5 6 7 ... 223 224 225 226 227 228 229\n",
       "  * time        (time) float64 -2.0 -1.898 -1.797 -1.695 ... 3.797 3.898 4.0\n",
       "    s1_bool     (cell) bool True True True True True ... True True True True\n",
       "    s2_bool     (cell) bool False False False False ... False False False False\n",
       "    frame       (time) int64 0 1 2 3 4 5 6 7 8 9 ... 51 52 53 54 55 56 57 58 59\n",
       "    trial_type  (trial) object 'w' 'w' 'w' 'w' ... 'lees' 'lees' 'lees' 'lees'\n",
       "Data variables:\n",
       "    data        (cell, trial, time) float64 1.604 -1.035 1.016 ... 1.193 1.641\n",
       "Attributes:\n",
       "    frequency:  0.1016949152542373"
      ]
     },
     "execution_count": 8,
     "metadata": {},
     "output_type": "execute_result"
    }
   ],
   "source": [
    "## Find stuff by labels:\n",
    "\n",
    "## Note the 'Dimensions: ........' line at the top! It tells you\n",
    "## how many elements have been returned\n",
    "\n",
    "ds_1.where(ds_1.s1_bool == True, drop=True)  # drop=False retuns the entire dataarray, but fills the s1_bool==False cells with nans"
   ]
  },
  {
   "cell_type": "code",
   "execution_count": 12,
   "metadata": {},
   "outputs": [
    {
     "data": {
      "text/plain": [
       "<xarray.Dataset>\n",
       "Dimensions:     (cell: 233, time: 40, trial: 230)\n",
       "Coordinates:\n",
       "  * cell        (cell) int64 0 2 5 6 7 8 9 11 ... 487 488 489 494 496 498 499\n",
       "  * trial       (trial) int64 0 1 2 3 4 5 6 7 ... 223 224 225 226 227 228 229\n",
       "  * time        (time) float64 0.0339 0.1356 0.2373 0.339 ... 3.797 3.898 4.0\n",
       "    s1_bool     (cell) bool True True True True True ... True True True True\n",
       "    s2_bool     (cell) bool False False False False ... False False False False\n",
       "    frame       (time) int64 20 21 22 23 24 25 26 27 ... 52 53 54 55 56 57 58 59\n",
       "    trial_type  (trial) object 'w' 'w' 'w' 'w' ... 'lees' 'lees' 'lees' 'lees'\n",
       "Data variables:\n",
       "    data        (cell, trial, time) float64 0.6521 -0.7643 ... 1.193 1.641\n",
       "Attributes:\n",
       "    frequency:  0.1016949152542373"
      ]
     },
     "execution_count": 12,
     "metadata": {},
     "output_type": "execute_result"
    }
   ],
   "source": [
    "## Use np.logical_and() or np.logical_or() to index multiple things:\n",
    "ds_1.where(np.logical_and(ds_1.s1_bool == True, \n",
    "                          ds_1.time > 0), drop=True)\n",
    "\n",
    "## (again, note the Dimensions: ...  line. Both cells and times have been sliced)"
   ]
  },
  {
   "cell_type": "code",
   "execution_count": 14,
   "metadata": {},
   "outputs": [
    {
     "data": {
      "text/plain": [
       "<xarray.DataArray 'trial_type' (trial: 154)>\n",
       "array(['rob', 'rob', 'rob', 'rob', 'rob', 'rob', 'rob', 'rob', 'rob',\n",
       "       'rob', 'rob', 'rob', 'rob', 'rob', 'rob', 'rob', 'rob', 'rob',\n",
       "       'rob', 'rob', 'rob', 'rob', 'rob', 'rob', 'rob', 'rob', 'rob',\n",
       "       'rob', 'rob', 'rob', 'rob', 'rob', 'rob', 'rob', 'rob', 'rob',\n",
       "       'rob', 'rob', 'rob', 'rob', 'rob', 'rob', 'rob', 'rob', 'rob',\n",
       "       'rob', 'rob', 'rob', 'rob', 'rob', 'rob', 'rob', 'rob', 'rob',\n",
       "       'rob', 'rob', 'rob', 'rob', 'rob', 'rob', 'rob', 'rob', 'rob',\n",
       "       'rob', 'rob', 'rob', 'rob', 'rob', 'rob', 'rob', 'rob', 'rob',\n",
       "       'rob', 'rob', 'rob', 'rob', 'rob', 'rob', 'rob', 'rob', 'rob',\n",
       "       'rob', 'rob', 'rob', 'rob', 'rob', 'rob', 'rob', 'rob', 'rob',\n",
       "       'rob', 'rob', 'rob', 'rob', 'rob', 'rob', 'lees', 'lees', 'lees',\n",
       "       'lees', 'lees', 'lees', 'lees', 'lees', 'lees', 'lees', 'lees',\n",
       "       'lees', 'lees', 'lees', 'lees', 'lees', 'lees', 'lees', 'lees',\n",
       "       'lees', 'lees', 'lees', 'lees', 'lees', 'lees', 'lees', 'lees',\n",
       "       'lees', 'lees', 'lees', 'lees', 'lees', 'lees', 'lees', 'lees',\n",
       "       'lees', 'lees', 'lees', 'lees', 'lees', 'lees', 'lees', 'lees',\n",
       "       'lees', 'lees', 'lees', 'lees', 'lees', 'lees', 'lees', 'lees',\n",
       "       'lees', 'lees', 'lees', 'lees', 'lees', 'lees', 'lees'],\n",
       "      dtype=object)\n",
       "Coordinates:\n",
       "  * trial       (trial) int64 76 77 78 79 80 81 82 ... 224 225 226 227 228 229\n",
       "    trial_type  (trial) object 'rob' 'rob' 'rob' 'rob' ... 'lees' 'lees' 'lees'"
      ]
     },
     "execution_count": 14,
     "metadata": {},
     "output_type": "execute_result"
    }
   ],
   "source": [
    "# I could go on all night! \n",
    "ds_1.where(ds_1.trial_type != 'w', drop=True).trial_type"
   ]
  },
  {
   "cell_type": "code",
   "execution_count": 11,
   "metadata": {},
   "outputs": [],
   "source": [
    "## And there is so much more good stuff (that I don't know about)!!\n",
    "## Reading the docs will give you some ideas, e.g. the indexing page:\n",
    "\n",
    "# http://xarray.pydata.org/en/stable/indexing.html"
   ]
  },
  {
   "cell_type": "code",
   "execution_count": null,
   "metadata": {},
   "outputs": [],
   "source": []
  }
 ],
 "metadata": {
  "kernelspec": {
   "display_name": "Python 3",
   "language": "python",
   "name": "python3"
  },
  "language_info": {
   "codemirror_mode": {
    "name": "ipython",
    "version": 3
   },
   "file_extension": ".py",
   "mimetype": "text/x-python",
   "name": "python",
   "nbconvert_exporter": "python",
   "pygments_lexer": "ipython3",
   "version": "3.7.0"
  }
 },
 "nbformat": 4,
 "nbformat_minor": 2
}
