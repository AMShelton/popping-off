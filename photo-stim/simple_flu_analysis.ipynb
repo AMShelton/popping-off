{
 "cells": [
  {
   "cell_type": "code",
   "execution_count": 53,
   "metadata": {},
   "outputs": [
    {
     "ename": "UnpicklingError",
     "evalue": "NEWOBJ class argument isn't a type object",
     "output_type": "error",
     "traceback": [
      "\u001b[0;31m---------------------------------------------------------------------------\u001b[0m",
      "\u001b[0;31mUnpicklingError\u001b[0m                           Traceback (most recent call last)",
      "\u001b[0;32m<ipython-input-53-c28198ad5a7c>\u001b[0m in \u001b[0;36m<module>\u001b[0;34m\u001b[0m\n\u001b[1;32m     16\u001b[0m \u001b[0;34m\u001b[0m\u001b[0m\n\u001b[1;32m     17\u001b[0m \u001b[0;32mwith\u001b[0m \u001b[0mopen\u001b[0m\u001b[0;34m(\u001b[0m\u001b[0msessions_path\u001b[0m\u001b[0;34m,\u001b[0m \u001b[0;34m'rb'\u001b[0m\u001b[0;34m)\u001b[0m \u001b[0;32mas\u001b[0m \u001b[0mf\u001b[0m\u001b[0;34m:\u001b[0m\u001b[0;34m\u001b[0m\u001b[0;34m\u001b[0m\u001b[0m\n\u001b[0;32m---> 18\u001b[0;31m     \u001b[0msessions\u001b[0m \u001b[0;34m=\u001b[0m \u001b[0mpickle\u001b[0m\u001b[0;34m.\u001b[0m\u001b[0mload\u001b[0m\u001b[0;34m(\u001b[0m\u001b[0mf\u001b[0m\u001b[0;34m)\u001b[0m\u001b[0;34m\u001b[0m\u001b[0;34m\u001b[0m\u001b[0m\n\u001b[0m\u001b[1;32m     19\u001b[0m \u001b[0;34m\u001b[0m\u001b[0m\n",
      "\u001b[0;31mUnpicklingError\u001b[0m: NEWOBJ class argument isn't a type object"
     ]
    }
   ],
   "source": [
    "# %%capture\n",
    "# %run setup_PS_data_multi.ipynb\n",
    "# print('------------------------------------')\n",
    "# print(f'{len(sessions)} sessions are loaded')\n",
    "import os\n",
    "import sys\n",
    "sys.path.append('..')\n",
    "import pickle\n",
    "import Session\n",
    "path_to_vape = os.path.expanduser('~/Documents/code/Vape')\n",
    "sys.path.append(path_to_vape)\n",
    "sys.path.append(os.path.join(path_to_vape, 'utils'))\n",
    "\n",
    "popoff_path = os.path.expanduser('~/Documents/code/pop-off')\n",
    "sessions_path = os.path.join(popoff_path, 'sessions.pkl')\n",
    "\n",
    "with open(sessions_path, 'rb') as f:\n",
    "    sessions = pickle.load(f)\n",
    "    "
   ]
  },
  {
   "cell_type": "code",
   "execution_count": 2,
   "metadata": {},
   "outputs": [
    {
     "data": {
      "text/plain": [
       "{0: instance Mouse J048, run 27 of Session class,\n",
       " 1: instance Mouse J048, run 28 of Session class,\n",
       " 2: instance Mouse J048, run 29 of Session class,\n",
       " 3: instance Mouse J048, run 30 of Session class,\n",
       " 4: instance Mouse J048, run 32 of Session class,\n",
       " 5: instance Mouse RL048, run 23 of Session class,\n",
       " 6: instance Mouse RL048, run 24 of Session class,\n",
       " 7: instance Mouse RL048, run 25 of Session class,\n",
       " 8: instance Mouse RL048, run 28 of Session class,\n",
       " 9: instance Mouse RL048, run 29 of Session class,\n",
       " 10: instance Mouse J063, run 8 of Session class,\n",
       " 11: instance Mouse J063, run 9 of Session class,\n",
       " 12: instance Mouse J064, run 10 of Session class,\n",
       " 13: instance Mouse J064, run 11 of Session class,\n",
       " 14: instance Mouse J064, run 14 of Session class,\n",
       " 15: instance Mouse J065, run 10 of Session class,\n",
       " 16: instance Mouse J065, run 11 of Session class,\n",
       " 18: instance Mouse RL070, run 28 of Session class,\n",
       " 19: instance Mouse RL070, run 29 of Session class}"
      ]
     },
     "execution_count": 2,
     "metadata": {},
     "output_type": "execute_result"
    }
   ],
   "source": [
    "#remove J065 run 14 because there is an alignment error\n",
    "for idx, session in sessions.items():\n",
    "    rep = repr(session)\n",
    "    if 'J065' in rep and 'run 14' in rep:\n",
    "        del_idx = idx\n",
    "        del sessions[del_idx] \n",
    "        break\n",
    "sessions"
   ]
  },
  {
   "cell_type": "code",
   "execution_count": 3,
   "metadata": {},
   "outputs": [],
   "source": [
    "import numpy as np\n",
    "import matplotlib.pyplot as plt\n",
    "import seaborn as sns"
   ]
  },
  {
   "cell_type": "code",
   "execution_count": 4,
   "metadata": {},
   "outputs": [],
   "source": [
    "# global plotting params\n",
    "sns.set()\n",
    "sns.set_style('white')\n",
    "params = {'legend.fontsize': 'xx-large',\n",
    "          'text.usetex':False,\n",
    "         'axes.labelsize': 'xx-large',\n",
    "         'axes.titlesize':'xx-large',\n",
    "         'xtick.labelsize':'xx-large',\n",
    "         'ytick.labelsize':'xx-large'}\n",
    "\n",
    "plt.rc(\"axes.spines\", top=False, right=False) # despine\n",
    "\n",
    "plt.rcParams.update(params)"
   ]
  },
  {
   "cell_type": "code",
   "execution_count": 5,
   "metadata": {},
   "outputs": [
    {
     "data": {
      "text/plain": [
       "dict_keys(['mouse', 'run_number', 'pkl_path', 'name', 'run', 'pre_seconds', 'post_seconds', 'pre_gap_seconds', 'post_gap_seconds', 'verbose', 'flu', 'tstart_galvo', 'trial_start', 'galvo_ms', 'subsets', 'trial_subsets', 'n_stim_arr', 'outcome', 'outcome_arr', 'n_cells', 'av_ypix', 'av_xpix', 'plane_number', 's2_bool', 's1_bool', 'frequency', 'pre_frames', 'post_frames', 'art_gap_start', 'final_pre_gap_tp', 'art_gap_stop', 'filter_ps_array', 'filter_ps_time', 'behaviour_trials', 'decision', 'photostim', 'photostim_occ', 'autorewarded', 'n_unique_stims', 'n_neurons', 'n_times', 'n_trials', 'n_unique_dec', 'occ_table', 'n_com_trials', 'nonnan_trials'])"
      ]
     },
     "execution_count": 5,
     "metadata": {},
     "output_type": "execute_result"
    }
   ],
   "source": [
    "session.__dict__.keys()"
   ]
  },
  {
   "cell_type": "code",
   "execution_count": 6,
   "metadata": {},
   "outputs": [],
   "source": [
    "## Integrate different imaging frequencies:\n",
    "\n",
    "def get_tp_dict(sessions):\n",
    "    freqs = np.unique([ss.frequency for _, ss in sessions.items()])\n",
    "    tp_dict = {}\n",
    "    for ff in freqs:\n",
    "        for _, ss in sessions.items():   # assume pre_seconds & post_seconds equal for all sessions\n",
    "            if ss.frequency == ff:\n",
    "                tp_dict[ff] = ss.filter_ps_time\n",
    "    if len(freqs) == 2:  # for hard-coded bit next up\n",
    "        tp_dict['mutual'] = np.intersect1d(ar1=tp_dict[freqs[0]], ar2=tp_dict[freqs[1]])\n",
    "    elif len(freqs) == 1:\n",
    "        tp_dict['mutual'] = tp_dict[freqs[0]]\n",
    "    \n",
    "    return tp_dict"
   ]
  },
  {
   "cell_type": "code",
   "execution_count": 7,
   "metadata": {},
   "outputs": [],
   "source": [
    "def get_frames_use(session, times_use):\n",
    "\n",
    "    frames_use = []\n",
    "    for tt in times_use:\n",
    "        # this will throw an error if tt not in filter_ps_time\n",
    "        frames = session.filter_ps_array[np.where(session.filter_ps_time == tt)[0][0]]\n",
    "        frames_use.append(frames)\n",
    "        \n",
    "    assert len(times_use) == len(frames_use) \n",
    "    return np.array(frames_use)"
   ]
  },
  {
   "cell_type": "code",
   "execution_count": 8,
   "metadata": {},
   "outputs": [],
   "source": [
    "tp_dict = get_tp_dict(sessions)\n",
    "for idx, session in sessions.items():\n",
    "    session.frames_use = get_frames_use(session, tp_dict['mutual'])"
   ]
  },
  {
   "cell_type": "code",
   "execution_count": 11,
   "metadata": {},
   "outputs": [],
   "source": [
    "def mean_flu(flu, cells_use='all', trials_use='all', frames_use='all'):\n",
    "    \n",
    "    if cells_use == 'all':\n",
    "        cells_use = np.arange(flu.shape[0])\n",
    "    if trials_use == 'all':\n",
    "        trials_use = np.arange(flu.shape[1])\n",
    "    if frames_use == 'all':\n",
    "        frames_use = np.arange(flu.shape[2])\n",
    "       \n",
    "    # Do each index seperately to prevent IndexError due to shape mismatch\n",
    "    flu = flu[cells_use, :, :]\n",
    "    flu = flu[:, trials_use, :]\n",
    "    flu = flu[:, :, frames_use]\n",
    "    \n",
    "    return np.mean(flu, (0,1))"
   ]
  },
  {
   "cell_type": "code",
   "execution_count": 46,
   "metadata": {},
   "outputs": [],
   "source": [
    "def mean_across_sessions(sessions, trial_type='all', trial_outcome='all'):\n",
    "    \n",
    "    count = 0\n",
    "\n",
    "    for idx, session in sessions.items():\n",
    "        \n",
    "        assert len(session.photostim) == len(session.decision)\n",
    "        \n",
    "        if session.mouse!='RL048':\n",
    "            continue\n",
    "        \n",
    "        if trial_type == 'nogo':\n",
    "            type_use = session.photostim == 0\n",
    "        elif trial_type == 'test':\n",
    "            type_use = session.photostim == 1\n",
    "        elif trial_type == 'easy':\n",
    "            type_use = session.photostim == 2\n",
    "        elif trial_type == 'all':\n",
    "            type_use = np.repeat(True, len(session.photostim))\n",
    "        \n",
    "        if trial_outcome == 'hit':\n",
    "            outcome_use = session.decision == 1\n",
    "        elif trial_outcome == 'miss':\n",
    "            outcome_use = session.decision == 0\n",
    "        elif trial_outcome == 'all':\n",
    "            outcome_use = np.repeat(True, len(session.decision)) \n",
    "        \n",
    "        trials_use = type_use & outcome_use\n",
    "\n",
    "        mean_abs_df = np.mean(np.abs(session.run.flu), 1)\n",
    "        abs_threshold=5\n",
    "        \n",
    "        filtered_neurons = np.where(mean_abs_df < abs_threshold)[0]\n",
    "        flu = session.behaviour_trials[filtered_neurons, :, :]\n",
    "        frames_use = session.frames_use\n",
    "\n",
    "        if count == 0:\n",
    "            mean_session = mean_flu(flu, trials_use=trials_use, frames_use=frames_use)\n",
    "        else:\n",
    "            mean_session = np.vstack((mean_session, mean_flu(flu, trials_use=trials_use, frames_use=frames_use)))\n",
    "        \n",
    "        count+=1\n",
    "        \n",
    "    return np.mean(mean_session, 0)"
   ]
  },
  {
   "cell_type": "code",
   "execution_count": 48,
   "metadata": {},
   "outputs": [],
   "source": [
    "x_axis = tp_dict['mutual']\n",
    "\n",
    "\n",
    "hit = mean_across_sessions(sessions, trial_type='test', trial_outcome='hit')\n",
    "miss = mean_across_sessions(sessions, trial_type='test', trial_outcome='miss')\n",
    "\n",
    "fp = mean_across_sessions(sessions, trial_type='nogo', trial_outcome='hit')\n",
    "cr = mean_across_sessions(sessions, trial_type='nogo', trial_outcome='miss')\n"
   ]
  },
  {
   "cell_type": "code",
   "execution_count": 50,
   "metadata": {},
   "outputs": [
    {
     "data": {
      "text/plain": [
       "Text(0.5, 1.0, 'RL048')"
      ]
     },
     "execution_count": 50,
     "metadata": {},
     "output_type": "execute_result"
    },
    {
     "data": {
      "image/png": "[encoded data removed]",
      "text/plain": [
       "<Figure size 432x288 with 1 Axes>"
      ]
     },
     "metadata": {},
     "output_type": "display_data"
    }
   ],
   "source": [
    "plt.plot(x_axis, hit, color='red', label='Hit')\n",
    "plt.plot(x_axis, miss, color='blue', label='Miss')\n",
    "plt.plot(x_axis, fp, color='grey', label='False Positive')\n",
    "plt.plot(x_axis, cr, color='green', label='Correct Rejection')\n",
    "plt.legend(loc='bottom', fontsize=15)\n",
    "plt.title('RL048')"
   ]
  },
  {
   "cell_type": "code",
   "execution_count": 51,
   "metadata": {},
   "outputs": [
    {
     "ename": "AxisError",
     "evalue": "axis 1 is out of bounds for array of dimension 1",
     "output_type": "error",
     "traceback": [
      "\u001b[0;31m---------------------------------------------------------------------------\u001b[0m",
      "\u001b[0;31mAxisError\u001b[0m                                 Traceback (most recent call last)",
      "\u001b[0;32m<ipython-input-51-7e2690a7b182>\u001b[0m in \u001b[0;36m<module>\u001b[0;34m\u001b[0m\n\u001b[1;32m      1\u001b[0m \u001b[0mplt\u001b[0m\u001b[0;34m.\u001b[0m\u001b[0mfigure\u001b[0m\u001b[0;34m(\u001b[0m\u001b[0mfigsize\u001b[0m\u001b[0;34m=\u001b[0m\u001b[0;34m(\u001b[0m\u001b[0;36m20\u001b[0m\u001b[0;34m,\u001b[0m\u001b[0;36m20\u001b[0m\u001b[0;34m)\u001b[0m\u001b[0;34m)\u001b[0m\u001b[0;34m\u001b[0m\u001b[0;34m\u001b[0m\u001b[0m\n\u001b[1;32m      2\u001b[0m \u001b[0mnormaliser\u001b[0m \u001b[0;34m=\u001b[0m \u001b[0;32mlambda\u001b[0m \u001b[0ma\u001b[0m\u001b[0;34m:\u001b[0m \u001b[0;34m(\u001b[0m\u001b[0ma\u001b[0m \u001b[0;34m-\u001b[0m \u001b[0mnp\u001b[0m\u001b[0;34m.\u001b[0m\u001b[0mmin\u001b[0m\u001b[0;34m(\u001b[0m\u001b[0ma\u001b[0m\u001b[0;34m)\u001b[0m\u001b[0;34m)\u001b[0m\u001b[0;34m/\u001b[0m\u001b[0mnp\u001b[0m\u001b[0;34m.\u001b[0m\u001b[0mptp\u001b[0m\u001b[0;34m(\u001b[0m\u001b[0ma\u001b[0m\u001b[0;34m)\u001b[0m\u001b[0;34m\u001b[0m\u001b[0;34m\u001b[0m\u001b[0m\n\u001b[0;32m----> 3\u001b[0;31m \u001b[0mb\u001b[0m \u001b[0;34m=\u001b[0m \u001b[0mnp\u001b[0m\u001b[0;34m.\u001b[0m\u001b[0mapply_along_axis\u001b[0m\u001b[0;34m(\u001b[0m\u001b[0mnormaliser\u001b[0m\u001b[0;34m,\u001b[0m \u001b[0;36m1\u001b[0m\u001b[0;34m,\u001b[0m \u001b[0msession_means\u001b[0m\u001b[0;34m)\u001b[0m\u001b[0;34m\u001b[0m\u001b[0;34m\u001b[0m\u001b[0m\n\u001b[0m\u001b[1;32m      4\u001b[0m \u001b[0mplt\u001b[0m\u001b[0;34m.\u001b[0m\u001b[0mimshow\u001b[0m\u001b[0;34m(\u001b[0m\u001b[0mb\u001b[0m\u001b[0;34m)\u001b[0m\u001b[0;34m\u001b[0m\u001b[0;34m\u001b[0m\u001b[0m\n\u001b[1;32m      5\u001b[0m \u001b[0mplt\u001b[0m\u001b[0;34m.\u001b[0m\u001b[0mcolorbar\u001b[0m\u001b[0;34m(\u001b[0m\u001b[0;34m)\u001b[0m\u001b[0;34m\u001b[0m\u001b[0;34m\u001b[0m\u001b[0m\n",
      "\u001b[0;32m<__array_function__ internals>\u001b[0m in \u001b[0;36mapply_along_axis\u001b[0;34m(*args, **kwargs)\u001b[0m\n",
      "\u001b[0;32m~/anaconda3/lib/python3.7/site-packages/numpy/lib/shape_base.py\u001b[0m in \u001b[0;36mapply_along_axis\u001b[0;34m(func1d, axis, arr, *args, **kwargs)\u001b[0m\n\u001b[1;32m    361\u001b[0m     \u001b[0marr\u001b[0m \u001b[0;34m=\u001b[0m \u001b[0masanyarray\u001b[0m\u001b[0;34m(\u001b[0m\u001b[0marr\u001b[0m\u001b[0;34m)\u001b[0m\u001b[0;34m\u001b[0m\u001b[0;34m\u001b[0m\u001b[0m\n\u001b[1;32m    362\u001b[0m     \u001b[0mnd\u001b[0m \u001b[0;34m=\u001b[0m \u001b[0marr\u001b[0m\u001b[0;34m.\u001b[0m\u001b[0mndim\u001b[0m\u001b[0;34m\u001b[0m\u001b[0;34m\u001b[0m\u001b[0m\n\u001b[0;32m--> 363\u001b[0;31m     \u001b[0maxis\u001b[0m \u001b[0;34m=\u001b[0m \u001b[0mnormalize_axis_index\u001b[0m\u001b[0;34m(\u001b[0m\u001b[0maxis\u001b[0m\u001b[0;34m,\u001b[0m \u001b[0mnd\u001b[0m\u001b[0;34m)\u001b[0m\u001b[0;34m\u001b[0m\u001b[0;34m\u001b[0m\u001b[0m\n\u001b[0m\u001b[1;32m    364\u001b[0m \u001b[0;34m\u001b[0m\u001b[0m\n\u001b[1;32m    365\u001b[0m     \u001b[0;31m# arr, with the iteration axis at the end\u001b[0m\u001b[0;34m\u001b[0m\u001b[0;34m\u001b[0m\u001b[0;34m\u001b[0m\u001b[0m\n",
      "\u001b[0;31mAxisError\u001b[0m: axis 1 is out of bounds for array of dimension 1"
     ]
    },
    {
     "data": {
      "text/plain": [
       "<Figure size 1440x1440 with 0 Axes>"
      ]
     },
     "metadata": {},
     "output_type": "display_data"
    }
   ],
   "source": [
    "# This no longer works as i am now returning the mean from mean_across_sessions\n",
    "\n",
    "plt.figure(figsize=(20,20))\n",
    "normaliser = lambda a: (a - np.min(a))/np.ptp(a)\n",
    "b = np.apply_along_axis(normaliser, 1, session_means)\n",
    "plt.imshow(b)\n",
    "plt.colorbar()"
   ]
  }
 ],
 "metadata": {
  "kernelspec": {
   "display_name": "Python 3",
   "language": "python",
   "name": "python3"
  },
  "language_info": {
   "codemirror_mode": {
    "name": "ipython",
    "version": 3
   },
   "file_extension": ".py",
   "mimetype": "text/x-python",
   "name": "python",
   "nbconvert_exporter": "python",
   "pygments_lexer": "ipython3",
   "version": "3.7.4"
  }
 },
 "nbformat": 4,
 "nbformat_minor": 2
}
