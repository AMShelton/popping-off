{
 "cells": [
  {
   "cell_type": "markdown",
   "metadata": {},
   "source": [
    "## Load the data, this can either be done by calling setup_PS_data.ipynb or by saving a .pkl file in this notebook and loading it here.\n",
    "### Need to change the Vape paths and pkl_path in setup_PS_data.ipynb\n",
    "#### Requires Vape https://github.com/neuromantic99/Vape"
   ]
  },
  {
   "cell_type": "code",
   "execution_count": null,
   "metadata": {},
   "outputs": [],
   "source": [
    "%%capture\n",
    "%run setup_PS_data_multi.ipynb  # This notebook loads all data & some packages (takes a while)"
   ]
  },
  {
   "cell_type": "code",
   "execution_count": null,
   "metadata": {},
   "outputs": [],
   "source": [
    "sessions"
   ]
  },
  {
   "cell_type": "code",
   "execution_count": null,
   "metadata": {},
   "outputs": [],
   "source": [
    "# Remove 5Hz data\n",
    "sessions_30hz = {}\n",
    "for idx, session in sessions.items():\n",
    "    rep = repr(session)\n",
    "    if 'J048' not in rep and 'RL048' not in rep:\n",
    "        sessions_30hz[idx] = session\n",
    "\n",
    "# Variable name too good not to use\n",
    "sessions = sessions_30hz"
   ]
  },
  {
   "cell_type": "code",
   "execution_count": null,
   "metadata": {},
   "outputs": [],
   "source": [
    "session = sessions[1]\n",
    "session.__dict__.keys()"
   ]
  },
  {
   "cell_type": "code",
   "execution_count": null,
   "metadata": {},
   "outputs": [],
   "source": [
    "# Nice juicy fluoresence tensor [n_cells x n_trials x n_frames]\n",
    "session.behaviour_trials.shape"
   ]
  },
  {
   "cell_type": "code",
   "execution_count": null,
   "metadata": {},
   "outputs": [],
   "source": [
    "# Did the animal lick, 1=hit or fp, 0=miss or cr.\n",
    "decision = session.decision\n",
    "\n",
    "# Was photostimulation delivered? \n",
    "# 2 = 'easy' trials = 150 cells stimulated \n",
    "# 1 = 'test' trials = (5,10,15,20,30,40 or 50) cells stimmed\n",
    "# 0 = 'nogo' = no cells stimmed\n",
    "photostim = session.photostim\n",
    "\n",
    "# Test trials where the animal hit\n",
    "test_hits = np.where((decision==1) & (photostim==1))[0]\n",
    "test_hits"
   ]
  },
  {
   "cell_type": "code",
   "execution_count": null,
   "metadata": {},
   "outputs": [],
   "source": [
    "flu_test_hits = session.behaviour_trials[:, test_hits, :] \n",
    "plt.plot(np.mean(flu_test_hits, (0,1)))"
   ]
  },
  {
   "cell_type": "code",
   "execution_count": null,
   "metadata": {},
   "outputs": [],
   "source": [
    "# Filter out the ps artifact\n",
    "ps_filtered = flu_test_hits[:, :, session.filter_ps_array]\n",
    "plt.plot(np.mean(ps_filtered, (0,1)))"
   ]
  },
  {
   "cell_type": "code",
   "execution_count": null,
   "metadata": {},
   "outputs": [],
   "source": []
  }
 ],
 "metadata": {
  "kernelspec": {
   "display_name": "Python 3",
   "language": "python",
   "name": "python3"
  },
  "language_info": {
   "codemirror_mode": {
    "name": "ipython",
    "version": 3
   },
   "file_extension": ".py",
   "mimetype": "text/x-python",
   "name": "python",
   "nbconvert_exporter": "python",
   "pygments_lexer": "ipython3",
   "version": "3.7.4"
  }
 },
 "nbformat": 4,
 "nbformat_minor": 2
}
