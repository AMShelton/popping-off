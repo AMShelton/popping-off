{
 "cells": [
  {
   "cell_type": "code",
   "execution_count": 6,
   "metadata": {
    "scrolled": true
   },
   "outputs": [
    {
     "name": "stdout",
     "output_type": "stream",
     "text": [
      "Now loading mouse J048, run 27\n",
      "microcontroller trial starts occur on average -73.26 ms from galvo trial starts\n",
      "photo stim occurences: {0: 51, 1: 51, 2: 41}\n",
      "Occurence table:\n",
      "[[26. 25.]\n",
      " [25. 26.]\n",
      " [ 5. 36.]]\n",
      "130 / 130 non nan trials identified\n",
      "Numbers of PS cells: [  0   5  10  20  30  40  50 150]\n",
      "succesfully loaded mouse J048, run 27\n",
      "The following sessions were loaded:\n",
      "Mouse J048, run 27 - frequency: 5\n",
      "------------------------------------\n",
      "1 sessions are loaded\n"
     ]
    }
   ],
   "source": [
    "%run setup_PS_data_multi.ipynb\n",
    "import pandas as pd\n",
    "import math, cmath\n",
    "from tqdm import tqdm\n",
    "print('------------------------------------')\n",
    "print(f'{len(sessions)} sessions are loaded')"
   ]
  },
  {
   "cell_type": "code",
   "execution_count": null,
   "metadata": {},
   "outputs": [],
   "source": []
  },
  {
   "cell_type": "markdown",
   "metadata": {},
   "source": [
    "# START"
   ]
  },
  {
   "cell_type": "code",
   "execution_count": 21,
   "metadata": {},
   "outputs": [
    {
     "data": {
      "text/plain": [
       "<matplotlib.colorbar.Colorbar at 0x7f138dcd0c10>"
      ]
     },
     "execution_count": 21,
     "metadata": {},
     "output_type": "execute_result"
    },
    {
     "data": {
      "image/png": "[encoded data removed]",
      "text/plain": [
       "<Figure size 360x216 with 2 Axes>"
      ]
     },
     "metadata": {},
     "output_type": "display_data"
    }
   ],
   "source": [
    "\n",
    "\n",
    "def beh_metric(sessions, metric='accuracy',\n",
    "               stim_array=[0, 5, 10, 20, 30, 40, 50]):\n",
    "    acc = np.zeros((len(sessions), len(stim_array)))\n",
    "    for i_session, session in sessions.items():\n",
    "        for i_stim, stim in enumerate(stim_array):\n",
    "            trial_inds = np.where(session.trial_subsets == stim)[0]\n",
    "            tp = np.sum(session.outcome[trial_inds] == 'hit')\n",
    "            fp = np.sum(session.outcome[trial_inds] == 'fp')\n",
    "            tn = np.sum(session.outcome[trial_inds] == 'cr')\n",
    "            fn = np.sum(session.outcome[trial_inds] == 'miss')\n",
    "            assert (tp + fp + tn + fn) == len(session.outcome[trial_inds])\n",
    "            if metric == 'accuracy':\n",
    "                acc[i_session, i_stim] = (tp + tn) / (tp + fp + tn + fn)\n",
    "            elif metric == 'sensitivity':\n",
    "                acc[i_session, i_stim] = tp / (tp + fp)\n",
    "    return acc\n",
    "\n",
    "plt.imshow(beh_metric(sessions=sessions, metric='sensitivity'))\n",
    "plt.colorbar()"
   ]
  },
  {
   "cell_type": "code",
   "execution_count": 22,
   "metadata": {},
   "outputs": [],
   "source": [
    "def fun_return_2d(data):  # possibly add fancy stuff\n",
    "    return np.mean(data, 2)\n",
    "\n",
    "def angle_vecs(v1, v2):\n",
    "    assert v1.shape == v2.shape\n",
    "    v1, v2 = np.squeeze(v1), np.squeeze(v2)\n",
    "    tmp = np.dot(v1, v2) / (np.linalg.norm(v1) * np.linalg.norm(v2))\n",
    "    rad = np.arccos(tmp)\n",
    "    deg = rad * 360 / (2 * np.pi)\n",
    "    return deg\n",
    "\n",
    "def mean_angle(deg):\n",
    "    return math.degrees(cmath.phase(sum([cmath.rect(1, math.radians(d)) for d in deg])/len(deg)))\n",
    "\n",
    "def create_dict_pred(nl, train_proj, lt):\n",
    "        dict_predictions_test = {x + '_test': np.array([]) for x in nl}  # make dicts to save\n",
    "        dict_predictions_train = {x + '_train': np.array([]) for x in nl}\n",
    "        if train_proj:\n",
    "            for x in lt:\n",
    "                dict_predictions_train[f'pred_{x}_train_proj'] = np.array([])\n",
    "                dict_predictions_test[f'pred_{x}_test_proj'] = np.array([])\n",
    "        if len(lt) == 2:\n",
    "            dict_predictions_train['angle_decoders'] = np.array([])\n",
    "        return dict_predictions_train, dict_predictions_test\n",
    "\n",
    "# for ii in range(len(sessions)):\n",
    "#     sessions[ii].shuffle_labels()\n"
   ]
  },
  {
   "cell_type": "code",
   "execution_count": 36,
   "metadata": {},
   "outputs": [],
   "source": [
    "def train_test_all_sessions(sessions, trial_times_use=None, verbose=2, list_test = ['dec', 'stim'],\n",
    "                            hitmiss_only=False, cv_regularizer = False, include_150 = False,\n",
    "                            n_split = 4, include_autoreward=True, neurons_selection='all',\n",
    "                            C_value=0.2, train_projected=False):\n",
    "    if hitmiss_only:\n",
    "        if verbose >= 1:\n",
    "            print('Using hit/miss trials only.')\n",
    "        if 'stim' in list_test:\n",
    "            list_test.remove('stim')  # no point in estimating stim, because only PS\n",
    "            \n",
    "    name_list = ['autorewarded']  # names of details to save - whether autorewrd trial or not\n",
    "    for nn in list_test:\n",
    "        name_list.append('pred_' + nn)  # prediction\n",
    "    for nn in ['dec', 'stim']:\n",
    "        name_list.append('true_' + nn)  # ground truth\n",
    "        \n",
    "    mouse_list = np.unique([ss.mouse for _, ss in sessions.items()])\n",
    "    df_prediction_train, df_prediction_test = dict(), dict()\n",
    "    if cv_regularizer:\n",
    "        best_c = {f'{x.mouse}R{x.run_number}': {} for _, x in sessions.items()}\n",
    "    if verbose >= 2:\n",
    "        print(mouse_list)\n",
    "    for mouse in mouse_list:\n",
    "        angle_decoders = np.zeros((len(sessions), n_split))\n",
    "        dict_predictions_train, dict_predictions_test = create_dict_pred(nl=name_list, train_proj=train_projected, lt=list_test)\n",
    "        for i_session, session in sessions.items():  # loop through sessions/runs and concatenate results (in dicts)\n",
    "            if session.mouse == mouse:  # only evaluate current mouse\n",
    "                if verbose >= 1:\n",
    "                    print(f'Mouse {mouse}, Starting loop {i_session + 1}/{len(sessions)}')\n",
    "                if trial_times_use is None:\n",
    "                    trial_frames_use = session.filter_ps_array[(session.final_pre_gap_tp + 1):(session.final_pre_gap_tp + 6)]\n",
    "                    print('WARNING: trial_times undefined so hard-coding them (to 5 post-stim frames)')\n",
    "                else:\n",
    "                    trial_frames_use = []\n",
    "                    for tt in trial_times_use:\n",
    "                        trial_frames_use.append(session.filter_ps_array[np.where(session.filter_ps_time == tt)[0][0]])  # this will throw an error if tt not in filter_ps_time\n",
    "                    trial_frames_use = np.array(trial_frames_use)\n",
    "                    assert len(trial_times_use) == len(trial_frames_use)\n",
    "                    if verbose >= 1:\n",
    "                        print(trial_times_use, trial_frames_use)\n",
    "\n",
    "                ## Set neuron inds\n",
    "                if neurons_selection == 'all':\n",
    "                    neurons_include = np.arange(session.behaviour_trials.shape[0])\n",
    "                elif neurons_selection == 's1':\n",
    "                    neurons_include = session.s1_bool\n",
    "                elif neurons_selection == 's2':\n",
    "                    neurons_include = session.s2_bool\n",
    "                if verbose >= 2:\n",
    "                    print(f'n neurons: {np.sum(neurons_include)}/{len(neurons_include)}, {neurons_selection}')\n",
    "                ## Set trial inds\n",
    "                if include_150 is False:\n",
    "                    trial_inds = np.where(session.photostim < 2)[0]\n",
    "                else:\n",
    "                    trial_inds = np.arange(len(session.photostim))\n",
    "\n",
    "                if hitmiss_only:\n",
    "                    hitmiss_trials = np.where(np.logical_or(session.outcome == 'hit', session.outcome == 'miss'))[0]\n",
    "                    if verbose == 2:\n",
    "                        print(f'Size hm {hitmiss_trials.size}, trial inds {trial_inds.size}')\n",
    "                    trial_inds = np.intersect1d(trial_inds, hitmiss_trials)\n",
    "\n",
    "                if include_autoreward is False:\n",
    "                    ar_exclude = np.where(session.autorewarded == False)[0]\n",
    "                    if verbose == 2:\n",
    "                        print(f'{np.sum(session.autorewarded)} autorewarded trials found and excluded')\n",
    "                    trial_inds = np.intersect1d(trial_inds, ar_exclude)\n",
    "\n",
    "                if verbose == 2:\n",
    "                    print(f'final size {trial_inds.size}')\n",
    "                n_trials = len(trial_inds)\n",
    "                if verbose == 2:\n",
    "                    print(f'Total number of trials is {n_trials}. Number of splits is {n_split}')\n",
    "\n",
    "                # Prepare data with selections\n",
    "                data_use = session.behaviour_trials[neurons_include, :, :]\n",
    "                data_use = data_use[:, :, trial_frames_use]\n",
    "                data_use = data_use[:, trial_inds, :]\n",
    "                data_use = fun_return_2d(data_use)\n",
    "                stand_scale = sklearn.preprocessing.StandardScaler()\n",
    "                data_use = stand_scale.fit_transform(data_use)\n",
    "  \n",
    "                sss = sklearn.model_selection.StratifiedKFold(n_splits=n_split)  # split into n_split data folds of trials\n",
    "                if verbose == 2:\n",
    "                    print(f'Number of licks: {np.sum(session.decision[trial_inds])}')\n",
    "                    dict_outcomes = {x: np.sum(session.outcome[trial_inds] == x) for x in np.unique(session.outcome[trial_inds])}\n",
    "                    print(f'Possible trial outcomes: {dict_outcomes}')\n",
    "                    dict_n_ps = {x: np.sum(session.trial_subsets[trial_inds] == x) for x in np.unique(session.trial_subsets[trial_inds])}\n",
    "                    print(f'Possible stimulations: {dict_n_ps}')\n",
    "                \n",
    "                if cv_regularizer:\n",
    "                    train_data = data_use\n",
    "                    train_labels =  {'stim': session.photostim[trial_inds],\n",
    "                               'dec': session.decision[trial_inds]}\n",
    "                    reg_array = {'C': np.logspace(-4, 0, 20), 'class_weight': ['balanced']}\n",
    "                    for x in list_test:\n",
    "                        grid = sklearn.model_selection.GridSearchCV(sklearn.linear_model.LogisticRegression(),\n",
    "                                                                    reg_array, cv=n_split, n_jobs=n_split)  # cv uses Strat K Fold\n",
    "                        grid.fit(X=train_data.transpose(), y=train_labels[x])\n",
    "                        best_c[f'{session.mouse}R{session.run_number}'][x] = grid.best_params_['C']\n",
    "                    if verbose == 2:\n",
    "                        print( best_c[f'{session.mouse}{session.run_number}'])\n",
    "                    continue  ## Skip rest of training etc. \n",
    "                \n",
    "                i_loop = 0\n",
    "                for train_inds, test_inds in sss.split(X=np.zeros(n_trials), y=session.outcome[trial_inds]):  # loop through different train/test folds, concat results\n",
    "                    train_data, test_data = data_use[:, train_inds], data_use[:, test_inds]\n",
    "                    if i_loop == 0:\n",
    "                        if verbose == 2:\n",
    "                            print(f'Shape train data {train_data.shape}, test data {test_data.shape}')\n",
    "\n",
    "                    ## Get labels and categories of trials\n",
    "                    train_labels = {'stim': session.photostim[trial_inds[train_inds]],\n",
    "                                    'dec': session.decision[trial_inds[train_inds]]}\n",
    "                    test_labels = {'stim': session.photostim[trial_inds[test_inds]], \n",
    "                                   'dec': session.decision[trial_inds[test_inds]]}\n",
    "                    if verbose == 2:\n",
    "                        print(f' Number of test licks {np.sum(test_labels[\"dec\"])}')\n",
    "                    detailed_ps_labels = session.trial_subsets[trial_inds]\n",
    "                    autorewarded = session.autorewarded[trial_inds]\n",
    "                    assert len(train_labels['dec']) == train_data.shape[1]\n",
    "                    assert len(test_labels['stim']) == test_data.shape[1]\n",
    "\n",
    "                    ## Train logistic regression model on train data\n",
    "                    dec = {}\n",
    "                    for x in list_test:\n",
    "                        dec[x] = sklearn.linear_model.LogisticRegression(C=C_value, class_weight='balanced').fit(\n",
    "                                        X=train_data.transpose(), y=train_labels[x])\n",
    "\n",
    "                    if len(list_test) == 2:\n",
    "                        angle_decoders[i_session, i_loop] = angle_vecs(dec[list_test[0]].coef_, dec[list_test[1]].coef_)\n",
    "\n",
    "                    if train_projected:  # project and re decode\n",
    "                        dec_proj = {}\n",
    "                        assert len(list_test) == 2  # hard coded that len==2 further on\n",
    "                        for i_x, x in enumerate(list_test):\n",
    "                            i_y = 1 - i_x\n",
    "                            y = list_test[i_y]\n",
    "                            assert x != y\n",
    "                            enc_vector = dec[y].coef_ / np.linalg.norm(dec[y].coef_)\n",
    "                            train_data_proj = enc_vector.copy() * train_data.transpose()\n",
    "                            test_data_proj = enc_vector.copy() * test_data.transpose()\n",
    "                            dec_proj[x] = sklearn.linear_model.LogisticRegression(C=C_value, class_weight='balanced').fit(\n",
    "                                            X=train_data_proj, y=train_labels[x])\n",
    "\n",
    "                    ## Predict test data\n",
    "                    pred_proba_train = {x: dec[x].predict_proba(X=train_data.transpose())[:, 1] for x in list_test}\n",
    "                    pred_proba_test = {x: dec[x].predict_proba(X=test_data.transpose())[:, 1] for x in list_test}\n",
    "                    if train_projected:\n",
    "                        pred_proba_train_proj = {x: dec_proj[x].predict_proba(X=train_data_proj)[:, 1] for x in list_test}\n",
    "                        pred_proba_test_proj = {x: dec_proj[x].predict_proba(X=test_data_proj)[:, 1] for x in list_test}\n",
    "\n",
    "                    ## Save results\n",
    "                    for x in list_test: \n",
    "                        dict_predictions_train[f'pred_{x}_train'] = np.concatenate((dict_predictions_train[f'pred_{x}_train'], pred_proba_train[x]))\n",
    "                        dict_predictions_test[f'pred_{x}_test'] = np.concatenate((dict_predictions_test[f'pred_{x}_test'], pred_proba_test[x]))\n",
    "                        if train_projected:\n",
    "                            dict_predictions_train[f'pred_{x}_train_proj'] = np.concatenate((dict_predictions_train[f'pred_{x}_train_proj'], pred_proba_train_proj[x]))\n",
    "                            dict_predictions_test[f'pred_{x}_test_proj'] = np.concatenate((dict_predictions_test[f'pred_{x}_test_proj'], pred_proba_test_proj[x]))\n",
    "                    if len(list_test) == 2:\n",
    "                        dict_predictions_train['angle_decoders'] = np.concatenate((dict_predictions_train['angle_decoders'], np.zeros_like(pred_proba_train[x]) + angle_decoders[i_session, i_loop]))\n",
    "                    dict_predictions_train['true_stim_train'] = np.concatenate((dict_predictions_train['true_stim_train'], detailed_ps_labels[train_inds]))\n",
    "                    dict_predictions_test['true_stim_test'] = np.concatenate((dict_predictions_test['true_stim_test'], detailed_ps_labels[test_inds]))\n",
    "                    dict_predictions_train['autorewarded_train'] = np.concatenate((dict_predictions_train['autorewarded_train'], autorewarded[train_inds]))\n",
    "                    dict_predictions_test['autorewarded_test'] = np.concatenate((dict_predictions_test['autorewarded_test'], autorewarded[test_inds]))\n",
    "                    dict_predictions_train['true_dec_train'] = np.concatenate((dict_predictions_train['true_dec_train'], train_labels['dec']))\n",
    "                    dict_predictions_test['true_dec_test'] = np.concatenate((dict_predictions_test['true_dec_test'], test_labels['dec']))\n",
    "                    i_loop += 1\n",
    "                if verbose >= 1 and cv_regularizer:\n",
    "                    print(f'C values: {best_c}')\n",
    "        if cv_regularizer is False:\n",
    "            if verbose == 2:\n",
    "                print(f'length test: {len(dict_predictions_test[\"true_dec_test\"])}')\n",
    "\n",
    "            ## Put dictionary results into dataframes:\n",
    "            df_prediction_train[mouse] = pd.DataFrame(dict_predictions_train)\n",
    "            df_prediction_test[mouse] = pd.DataFrame(dict_predictions_test)\n",
    "        else:\n",
    "            if verbose >= 1:\n",
    "                print(best_c)\n",
    "                \n",
    "    if cv_regularizer:\n",
    "        return best_c   # NB output size changes\n",
    "    else:\n",
    "        return df_prediction_train, df_prediction_test\n",
    "    \n",
    "def plot_df_stats(df, xx, yy, hh, plot_line=True, xticklabels=None):\n",
    "#     yy = yy + '_proj'\n",
    "    if plot_line and hh is None:\n",
    "        sns.pointplot(data=df, x=xx, y=yy, color='grey', ci='sd', label=None)\n",
    "    elif plot_line and hh is not None:\n",
    "        sns.pointplot(data=df, x=xx, y=yy, hue=hh, ci='sd', label=None)\n",
    "    if hh is None:  \n",
    "        tmp = sns.stripplot(x=xx, y=yy, hue=hh, data=df, linewidth=1, label=None, color='grey')\n",
    "    else:  \n",
    "        tmp = sns.stripplot(x=xx, y=yy, hue=hh, data=df, linewidth=1, label=None)\n",
    "    if xticklabels is not None:\n",
    "        tmp.set_xticklabels(xticklabels)"
   ]
  },
  {
   "cell_type": "code",
   "execution_count": 24,
   "metadata": {
    "scrolled": false
   },
   "outputs": [
    {
     "name": "stdout",
     "output_type": "stream",
     "text": [
      "['J048']\n",
      "Mouse J048, Starting loop 1/1\n",
      "final size 93\n",
      "Total number of trials is 93. Number of splits is 4\n",
      "Number of licks: 51\n",
      "Possible trial outcomes: {'cr': 25, 'fp': 25, 'hit': 26, 'miss': 17}\n",
      "Possible stimulations: {0: 50, 5: 10, 10: 8, 20: 4, 30: 11, 40: 4, 50: 6}\n",
      "Shape train data (1086, 69), test data (1086, 24)\n",
      " Number of test licks 13\n",
      " Number of test licks 13\n",
      " Number of test licks 13\n",
      " Number of test licks 12\n",
      "length test: 93\n"
     ]
    },
    {
     "data": {
      "image/png": "[encoded data removed]",
      "text/plain": [
       "<Figure size 864x720 with 4 Axes>"
      ]
     },
     "metadata": {},
     "output_type": "display_data"
    }
   ],
   "source": [
    "time_frame = 2\n",
    "n_splits = 4\n",
    "\n",
    "df_prediction_train, df_prediction_test = train_test_all_sessions(sessions=sessions, verbose=2, n_split=n_splits,\n",
    "                                              trial_times_use=np.array([time_frame]),\n",
    "                                         hitmiss_only=False,# list_test=['dec', 'stim'],\n",
    "                                         include_autoreward=True, neurons_selection='s2',\n",
    "                                         C_value=0.02, cv_regularizer=False, train_projected=True)\n",
    "\n",
    "plt.rcParams['figure.figsize'] = (12, 10)\n",
    "plt.subplots_adjust(wspace=0.3, hspace=0.4)\n",
    "    \n",
    "## NB: To not plot with hue, set hh=None\n",
    "# for mouse in df_prediction_train.keys():\n",
    "for mouse in ['J048']:\n",
    "    if 'pred_stim_train' in df_prediction_train[mouse].columns:\n",
    "        plt.subplot(221)\n",
    "        plot_df_stats(df=df_prediction_train[mouse], xx='true_stim_train', yy='pred_stim_train', hh='true_dec_train')  # set hh=None or hh='dec_train'\n",
    "        plt.xlabel('Number of cells PS'); plt.ylabel('Predicted probability of PS'); plt.title('TRAIN - PS', weight='bold')\n",
    "        plt.legend([])\n",
    "\n",
    "        plt.subplot(223)\n",
    "        plot_df_stats(df=df_prediction_test[mouse], xx='true_stim_test', yy='pred_stim_test', hh='true_dec_test')  # set hh=None or hh='dec_test'\n",
    "        plt.xlabel('Number of cells PS'); plt.ylabel('Predicted probability of PS'); plt.title('TEST - PS', weight='bold')\n",
    "        plt.legend([])\n",
    "\n",
    "    if 'pred_dec_train' in df_prediction_train[mouse].columns:  \n",
    "        plt.subplot(222)\n",
    "        plot_df_stats(df=df_prediction_train[mouse], xx='true_dec_train', yy='pred_dec_train', hh=None, xticklabels=['no lick', 'lick'])\n",
    "        plt.xlabel('Decision'); plt.ylabel('Predicted probability of lick'); plt.title('TRAIN - LICK', weight='bold')\n",
    "        plt.legend('No lick', 'lick')\n",
    "\n",
    "        plt.subplot(224)\n",
    "        plot_df_stats(df=df_prediction_test[mouse], xx='true_dec_test', yy='pred_dec_test', hh='true_stim_test', xticklabels=['no lick', 'lick'])\n",
    "        plt.xlabel('Decision'); plt.ylabel('Predicted probability of lick'); plt.title('TEST - LICK', weight='bold');\n",
    "        plt.legend([])\n",
    "# plt.suptitle(f'(Logistic Regression) decoding performance for frame {time_frame}: \\n{[str(sessions[x]) for x in range(len(sessions))]}\\n' + \n",
    "# #              f'Left column shows Photostimulation (PS) decoding performance, right column shows lick decoding\\n' +\n",
    "#              f'Top row shows train data; bottom row shows test data, {n_splits} splits\\n');"
   ]
  },
  {
   "cell_type": "markdown",
   "metadata": {},
   "source": [
    "## Dynamic coding:"
   ]
  },
  {
   "cell_type": "code",
   "execution_count": 33,
   "metadata": {},
   "outputs": [],
   "source": [
    "## Some functions that can be used as accuracy assessment \n",
    "def prob_correct(binary_truth, estimate):    \n",
    "    \"\"\"where bt = {0, 1} and est = (0, 1)\"\"\"\n",
    "    prob = (binary_truth * estimate + (1 - binary_truth) * (1 - estimate))\n",
    "    return prob\n",
    "\n",
    "def mean_accuracy(binary_truth, estimate):\n",
    "    assert len(binary_truth) == len(estimate)\n",
    "    pp = prob_correct(binary_truth=binary_truth, estimate=estimate)\n",
    "    return np.mean(pp), np.std(pp)\n",
    "\n",
    "def mean_accuracy_pred(binary_truth, estimate):\n",
    "    round_est = np.round(estimate)\n",
    "    return sklearn.metrics.accuracy_score(binary_truth, round_est), 0\n",
    "\n",
    "def llh(binary_truth, estimate):\n",
    "    assert len(binary_truth) == len(estimate)\n",
    "    pp = prob_correct(binary_truth=binary_truth, estimate=estimate)\n",
    "    llh = np.mean(np.log(np.clip(pp, a_min=1e-3, a_max=1)))\n",
    "    return llh, 0\n",
    "\n",
    "def r2_acc(binary_truth, estimate):\n",
    "    return sklearn.metrics.r2_score(y_true=binary_truth, y_pred=estimate), 0\n",
    "                  \n",
    "def separability(binary_truth, estimate):\n",
    "    av_pred_0 = np.mean(estimate[binary_truth == 0])\n",
    "    av_pred_1 = np.mean(estimate[binary_truth == 1])\n",
    "    sep = av_pred_1 - av_pred_0\n",
    "    return sep, 0\n",
    "\n",
    "def min_mean_accuracy(binary_truth, estimate):\n",
    "    mean_acc_true = np.mean(estimate[binary_truth == 1])\n",
    "    mean_acc_false = 1 - np.mean(estimate[binary_truth == 0])\n",
    "    return np.minimum(mean_acc_true, mean_acc_false), 0\n",
    "\n",
    "## Main function to compute accuracy of decoders per time point\n",
    "def compute_accuracy_time_array(sessions, time_array, average_fun=mean_accuracy, \n",
    "                                region_list=['s1', 's2'], regularizer=0.02, projected_data=False):\n",
    "                                \n",
    "    mouse_list = np.unique([ss.mouse for _, ss in sessions.items()])\n",
    "    stim_list = [0, 5, 10, 20, 30, 40, 50]  # hard coded!\n",
    "    dec_list = [0, 1]  # hard_coded!! \n",
    "    mouse_s_list = []\n",
    "    for mouse in mouse_list:\n",
    "        for reg in region_list:\n",
    "            mouse_s_list.append(mouse + '_' + reg)\n",
    "    n_timepoints = len(time_array)\n",
    "\n",
    "    lick_acc = {mouse: np.zeros((n_timepoints, 2)) for mouse in mouse_s_list} #mean, std\n",
    "    lick_acc_split = {x: {mouse: np.zeros((n_timepoints, 2)) for mouse in mouse_s_list} for x in stim_list}  # split per ps conditoin\n",
    "    lick_half = {mouse: np.zeros((n_timepoints, 2)) for mouse in mouse_s_list}  # naive with P=0.5 for 2 options (lick={0, 1})\n",
    "    ps_acc = {mouse: np.zeros((n_timepoints, 2)) for mouse in mouse_s_list} \n",
    "    ps_acc_split = {x: {mouse: np.zeros((n_timepoints, 2)) for mouse in mouse_s_list} for x in dec_list}  # split per lick conditoin\n",
    "    angle_dec = {mouse: np.zeros(n_timepoints) for mouse in mouse_s_list}\n",
    "    for i_tp, tp in tqdm(enumerate(time_array)):  # time array IN SECONDS\n",
    "        \n",
    "        for reg in region_list:\n",
    "            df_prediction_train, df_prediction_test = train_test_all_sessions(sessions=sessions, trial_times_use=np.array([tp]), \n",
    "                                                          verbose=1, hitmiss_only=False, include_150=False,\n",
    "                                                          include_autoreward=True, C_value=regularizer,\n",
    "                                                          cv_regularizer=False, train_projected=projected_data,\n",
    "                                                          neurons_selection=reg)\n",
    "            for mouse in df_prediction_train.keys():\n",
    "                lick = df_prediction_test[mouse]['true_dec_test']\n",
    "                ps = (df_prediction_test[mouse]['true_stim_test'] > 0).astype('int')\n",
    "                if projected_data is False:\n",
    "                    pred_lick = df_prediction_test[mouse]['pred_dec_test'] \n",
    "                else:\n",
    "                    pred_lick = df_prediction_test[mouse]['pred_dec_test_proj']  \n",
    "                lick_half[mouse + '_' + reg][i_tp, :] = average_fun(binary_truth=lick, estimate=(np.zeros_like(lick) + 0.5))  # control for P=0.5\n",
    "                lick_acc[mouse + '_' + reg][i_tp, :] = average_fun(binary_truth=lick, estimate=pred_lick)\n",
    "#                 lick_acc[mouse + '_' + reg][i_tp, :] = 0\n",
    "#                 for i_lick in np.unique(lick):\n",
    "#                     lick_acc[mouse + '_' + reg][i_tp, :] += np.array(average_fun(binary_truth=lick[lick == i_lick], estimate=pred_lick[lick == i_lick])) / len(np.unique(lick))\n",
    "                \n",
    "                for x, arr in lick_acc_split.items():\n",
    "                    arr[mouse + '_' + reg][i_tp, :] = average_fun(binary_truth=lick[np.where(df_prediction_test[mouse]['true_stim_test'] == x)[0]], \n",
    "                                              estimate=pred_lick[np.where(df_prediction_test[mouse]['true_stim_test'] == x)[0]])\n",
    "\n",
    "                if 'pred_stim_test' in df_prediction_test[mouse].columns:\n",
    "                    if projected_data is False:\n",
    "                        pred_ps = df_prediction_test[mouse]['pred_stim_test'] \n",
    "                    else:\n",
    "                        pred_ps = df_prediction_test[mouse]['pred_stim_test_proj'] \n",
    "                    ps_acc[mouse + '_' + reg][i_tp, :] = average_fun(binary_truth=ps, estimate=pred_ps)\n",
    "#                     ps_acc[mouse + '_' + reg][i_tp, :] = 0\n",
    "#                     for i_ps in np.unique(lick):\n",
    "#                         ps_acc[mouse + '_' + reg][i_tp, :] += np.array(average_fun(binary_truth=ps[lick == i_ps], estimate=pred_ps[lick == i_ps])) / len(np.unique(lick))\n",
    "\n",
    "                    for x, arr in ps_acc_split.items():\n",
    "                        arr[mouse + '_' + reg][i_tp, :] = average_fun(binary_truth=ps[lick == x], \n",
    "                                                  estimate=pred_ps[lick == x])\n",
    "                angle_dec[mouse + '_' + reg][i_tp] = np.mean(df_prediction_train[mouse]['angle_decoders'])\n",
    "                \n",
    "    return (lick_acc, lick_acc_split, ps_acc, ps_acc_split, lick_half, angle_dec)"
   ]
  },
  {
   "cell_type": "code",
   "execution_count": 34,
   "metadata": {},
   "outputs": [
    {
     "name": "stdout",
     "output_type": "stream",
     "text": [
      "Mouse J048, run 27 1015 1086\n"
     ]
    }
   ],
   "source": [
    "for _, ss in sessions.items():\n",
    "    print(ss, np.sum(ss.s1_bool), np.sum(ss.s2_bool))"
   ]
  },
  {
   "cell_type": "code",
   "execution_count": 37,
   "metadata": {
    "scrolled": true
   },
   "outputs": [
    {
     "name": "stderr",
     "output_type": "stream",
     "text": [
      "\n",
      "0it [00:00, ?it/s]\u001b[A"
     ]
    },
    {
     "name": "stdout",
     "output_type": "stream",
     "text": [
      "Mouse J048, Starting loop 1/1\n",
      "[-3.6] [0]\n",
      "Mouse J048, Starting loop 1/1\n",
      "[-3.6] [0]\n"
     ]
    },
    {
     "name": "stderr",
     "output_type": "stream",
     "text": [
      "\n",
      "1it [00:00,  3.63it/s]\u001b[A"
     ]
    },
    {
     "name": "stdout",
     "output_type": "stream",
     "text": [
      "Mouse J048, Starting loop 1/1\n",
      "[-3.4] [1]\n",
      "Mouse J048, Starting loop 1/1\n",
      "[-3.4] [1]\n"
     ]
    },
    {
     "name": "stderr",
     "output_type": "stream",
     "text": [
      "\n",
      "2it [00:00,  3.59it/s]\u001b[A"
     ]
    },
    {
     "name": "stdout",
     "output_type": "stream",
     "text": [
      "Mouse J048, Starting loop 1/1\n",
      "[-3.2] [2]\n",
      "Mouse J048, Starting loop 1/1\n",
      "[-3.2] [2]\n"
     ]
    },
    {
     "name": "stderr",
     "output_type": "stream",
     "text": [
      "\n",
      "3it [00:00,  3.56it/s]\u001b[A"
     ]
    },
    {
     "name": "stdout",
     "output_type": "stream",
     "text": [
      "Mouse J048, Starting loop 1/1\n",
      "[-3.] [3]\n",
      "Mouse J048, Starting loop 1/1\n",
      "[-3.] [3]\n"
     ]
    },
    {
     "name": "stderr",
     "output_type": "stream",
     "text": [
      "\n",
      "4it [00:01,  3.55it/s]\u001b[A"
     ]
    },
    {
     "name": "stdout",
     "output_type": "stream",
     "text": [
      "Mouse J048, Starting loop 1/1\n",
      "[-2.8] [4]\n",
      "Mouse J048, Starting loop 1/1\n",
      "[-2.8] [4]\n"
     ]
    },
    {
     "name": "stderr",
     "output_type": "stream",
     "text": [
      "\n",
      "5it [00:01,  3.53it/s]\u001b[A"
     ]
    },
    {
     "name": "stdout",
     "output_type": "stream",
     "text": [
      "Mouse J048, Starting loop 1/1\n",
      "[-2.6] [5]\n",
      "Mouse J048, Starting loop 1/1\n",
      "[-2.6] [5]\n"
     ]
    },
    {
     "name": "stderr",
     "output_type": "stream",
     "text": [
      "\n",
      "6it [00:01,  3.50it/s]\u001b[A"
     ]
    },
    {
     "name": "stdout",
     "output_type": "stream",
     "text": [
      "Mouse J048, Starting loop 1/1\n",
      "[-2.4] [6]\n",
      "Mouse J048, Starting loop 1/1\n",
      "[-2.4] [6]\n"
     ]
    },
    {
     "name": "stderr",
     "output_type": "stream",
     "text": [
      "\n",
      "7it [00:01,  3.54it/s]\u001b[A"
     ]
    },
    {
     "name": "stdout",
     "output_type": "stream",
     "text": [
      "Mouse J048, Starting loop 1/1\n",
      "[-2.2] [7]\n",
      "Mouse J048, Starting loop 1/1\n",
      "[-2.2] [7]\n"
     ]
    },
    {
     "name": "stderr",
     "output_type": "stream",
     "text": [
      "\n",
      "8it [00:02,  3.49it/s]\u001b[A"
     ]
    },
    {
     "name": "stdout",
     "output_type": "stream",
     "text": [
      "Mouse J048, Starting loop 1/1\n",
      "[-2.] [8]\n",
      "Mouse J048, Starting loop 1/1\n",
      "[-2.] [8]\n"
     ]
    },
    {
     "name": "stderr",
     "output_type": "stream",
     "text": [
      "\n",
      "9it [00:02,  3.51it/s]\u001b[A"
     ]
    },
    {
     "name": "stdout",
     "output_type": "stream",
     "text": [
      "Mouse J048, Starting loop 1/1\n",
      "[-1.8] [9]\n",
      "Mouse J048, Starting loop 1/1\n",
      "[-1.8] [9]\n"
     ]
    },
    {
     "name": "stderr",
     "output_type": "stream",
     "text": [
      "\n",
      "10it [00:02,  3.58it/s]\u001b[A"
     ]
    },
    {
     "name": "stdout",
     "output_type": "stream",
     "text": [
      "Mouse J048, Starting loop 1/1\n",
      "[-1.6] [10]\n",
      "Mouse J048, Starting loop 1/1\n",
      "[-1.6] [10]\n"
     ]
    },
    {
     "name": "stderr",
     "output_type": "stream",
     "text": [
      "\n",
      "11it [00:03,  3.64it/s]\u001b[A"
     ]
    },
    {
     "name": "stdout",
     "output_type": "stream",
     "text": [
      "Mouse J048, Starting loop 1/1\n",
      "[-1.4] [11]\n",
      "Mouse J048, Starting loop 1/1\n",
      "[-1.4] [11]\n"
     ]
    },
    {
     "name": "stderr",
     "output_type": "stream",
     "text": [
      "\n",
      "12it [00:03,  3.69it/s]\u001b[A"
     ]
    },
    {
     "name": "stdout",
     "output_type": "stream",
     "text": [
      "Mouse J048, Starting loop 1/1\n",
      "[-1.2] [12]\n",
      "Mouse J048, Starting loop 1/1\n",
      "[-1.2] [12]\n"
     ]
    },
    {
     "name": "stderr",
     "output_type": "stream",
     "text": [
      "\n",
      "13it [00:03,  3.72it/s]\u001b[A"
     ]
    },
    {
     "name": "stdout",
     "output_type": "stream",
     "text": [
      "Mouse J048, Starting loop 1/1\n",
      "[-1.] [13]\n",
      "Mouse J048, Starting loop 1/1\n",
      "[-1.] [13]\n"
     ]
    },
    {
     "name": "stderr",
     "output_type": "stream",
     "text": [
      "\n",
      "14it [00:03,  3.75it/s]\u001b[A"
     ]
    },
    {
     "name": "stdout",
     "output_type": "stream",
     "text": [
      "Mouse J048, Starting loop 1/1\n",
      "[-0.8] [14]\n",
      "Mouse J048, Starting loop 1/1\n",
      "[-0.8] [14]\n"
     ]
    },
    {
     "name": "stderr",
     "output_type": "stream",
     "text": [
      "\n",
      "15it [00:04,  3.76it/s]\u001b[A"
     ]
    },
    {
     "name": "stdout",
     "output_type": "stream",
     "text": [
      "Mouse J048, Starting loop 1/1\n",
      "[-0.6] [15]\n",
      "Mouse J048, Starting loop 1/1\n",
      "[-0.6] [15]\n"
     ]
    },
    {
     "name": "stderr",
     "output_type": "stream",
     "text": [
      "\n",
      "16it [00:04,  3.78it/s]\u001b[A"
     ]
    },
    {
     "name": "stdout",
     "output_type": "stream",
     "text": [
      "Mouse J048, Starting loop 1/1\n",
      "[-0.4] [16]\n",
      "Mouse J048, Starting loop 1/1\n",
      "[-0.4] [16]\n"
     ]
    },
    {
     "name": "stderr",
     "output_type": "stream",
     "text": [
      "\n",
      "17it [00:04,  3.80it/s]\u001b[A"
     ]
    },
    {
     "name": "stdout",
     "output_type": "stream",
     "text": [
      "Mouse J048, Starting loop 1/1\n",
      "[-0.2] [17]\n",
      "Mouse J048, Starting loop 1/1\n",
      "[-0.2] [17]\n"
     ]
    },
    {
     "name": "stderr",
     "output_type": "stream",
     "text": [
      "\n",
      "18it [00:04,  3.81it/s]\u001b[A"
     ]
    },
    {
     "name": "stdout",
     "output_type": "stream",
     "text": [
      "Mouse J048, Starting loop 1/1\n",
      "[0.] [18]\n",
      "Mouse J048, Starting loop 1/1\n",
      "[0.] [18]\n"
     ]
    },
    {
     "name": "stderr",
     "output_type": "stream",
     "text": [
      "\n",
      "19it [00:05,  3.81it/s]\u001b[A"
     ]
    },
    {
     "name": "stdout",
     "output_type": "stream",
     "text": [
      "Mouse J048, Starting loop 1/1\n",
      "[1.] [23]\n",
      "Mouse J048, Starting loop 1/1\n",
      "[1.] [23]\n"
     ]
    },
    {
     "name": "stderr",
     "output_type": "stream",
     "text": [
      "\n",
      "20it [00:05,  3.83it/s]\u001b[A"
     ]
    },
    {
     "name": "stdout",
     "output_type": "stream",
     "text": [
      "Mouse J048, Starting loop 1/1\n",
      "[1.2] [24]\n",
      "Mouse J048, Starting loop 1/1\n",
      "[1.2] [24]\n"
     ]
    },
    {
     "name": "stderr",
     "output_type": "stream",
     "text": [
      "\n",
      "21it [00:05,  3.85it/s]\u001b[A"
     ]
    },
    {
     "name": "stdout",
     "output_type": "stream",
     "text": [
      "Mouse J048, Starting loop 1/1\n",
      "[1.4] [25]\n",
      "Mouse J048, Starting loop 1/1\n",
      "[1.4] [25]\n"
     ]
    },
    {
     "name": "stderr",
     "output_type": "stream",
     "text": [
      "\n",
      "22it [00:05,  3.85it/s]\u001b[A"
     ]
    },
    {
     "name": "stdout",
     "output_type": "stream",
     "text": [
      "Mouse J048, Starting loop 1/1\n",
      "[1.6] [26]\n",
      "Mouse J048, Starting loop 1/1\n",
      "[1.6] [26]\n"
     ]
    },
    {
     "name": "stderr",
     "output_type": "stream",
     "text": [
      "\n",
      "23it [00:06,  3.85it/s]\u001b[A"
     ]
    },
    {
     "name": "stdout",
     "output_type": "stream",
     "text": [
      "Mouse J048, Starting loop 1/1\n",
      "[1.8] [27]\n",
      "Mouse J048, Starting loop 1/1\n",
      "[1.8] [27]\n"
     ]
    },
    {
     "name": "stderr",
     "output_type": "stream",
     "text": [
      "\n",
      "24it [00:06,  3.85it/s]\u001b[A"
     ]
    },
    {
     "name": "stdout",
     "output_type": "stream",
     "text": [
      "Mouse J048, Starting loop 1/1\n",
      "[2.] [28]\n",
      "Mouse J048, Starting loop 1/1\n",
      "[2.] [28]\n"
     ]
    },
    {
     "name": "stderr",
     "output_type": "stream",
     "text": [
      "\n",
      "25it [00:06,  3.84it/s]\u001b[A"
     ]
    },
    {
     "name": "stdout",
     "output_type": "stream",
     "text": [
      "Mouse J048, Starting loop 1/1\n",
      "[2.2] [29]\n",
      "Mouse J048, Starting loop 1/1\n",
      "[2.2] [29]\n"
     ]
    },
    {
     "name": "stderr",
     "output_type": "stream",
     "text": [
      "\n",
      "26it [00:07,  3.83it/s]\u001b[A"
     ]
    },
    {
     "name": "stdout",
     "output_type": "stream",
     "text": [
      "Mouse J048, Starting loop 1/1\n",
      "[2.4] [30]\n",
      "Mouse J048, Starting loop 1/1\n",
      "[2.4] [30]\n"
     ]
    },
    {
     "name": "stderr",
     "output_type": "stream",
     "text": [
      "\n",
      "27it [00:07,  3.78it/s]\u001b[A"
     ]
    },
    {
     "name": "stdout",
     "output_type": "stream",
     "text": [
      "Mouse J048, Starting loop 1/1\n",
      "[2.6] [31]\n",
      "Mouse J048, Starting loop 1/1\n",
      "[2.6] [31]\n"
     ]
    },
    {
     "name": "stderr",
     "output_type": "stream",
     "text": [
      "\n",
      "28it [00:07,  3.78it/s]\u001b[A"
     ]
    },
    {
     "name": "stdout",
     "output_type": "stream",
     "text": [
      "Mouse J048, Starting loop 1/1\n",
      "[2.8] [32]\n",
      "Mouse J048, Starting loop 1/1\n",
      "[2.8] [32]\n"
     ]
    },
    {
     "name": "stderr",
     "output_type": "stream",
     "text": [
      "\n",
      "29it [00:07,  3.78it/s]\u001b[A"
     ]
    },
    {
     "name": "stdout",
     "output_type": "stream",
     "text": [
      "Mouse J048, Starting loop 1/1\n",
      "[3.] [33]\n",
      "Mouse J048, Starting loop 1/1\n",
      "[3.] [33]\n"
     ]
    },
    {
     "name": "stderr",
     "output_type": "stream",
     "text": [
      "\n",
      "30it [00:08,  3.79it/s]\u001b[A"
     ]
    },
    {
     "name": "stdout",
     "output_type": "stream",
     "text": [
      "Mouse J048, Starting loop 1/1\n",
      "[3.2] [34]\n",
      "Mouse J048, Starting loop 1/1\n",
      "[3.2] [34]\n"
     ]
    },
    {
     "name": "stderr",
     "output_type": "stream",
     "text": [
      "\n",
      "31it [00:08,  3.79it/s]\u001b[A"
     ]
    },
    {
     "name": "stdout",
     "output_type": "stream",
     "text": [
      "Mouse J048, Starting loop 1/1\n",
      "[3.4] [35]\n",
      "Mouse J048, Starting loop 1/1\n",
      "[3.4] [35]\n"
     ]
    },
    {
     "name": "stderr",
     "output_type": "stream",
     "text": [
      "\n",
      "32it [00:08,  3.80it/s]\u001b[A"
     ]
    },
    {
     "name": "stdout",
     "output_type": "stream",
     "text": [
      "Mouse J048, Starting loop 1/1\n",
      "[3.6] [36]\n",
      "Mouse J048, Starting loop 1/1\n",
      "[3.6] [36]\n"
     ]
    },
    {
     "name": "stderr",
     "output_type": "stream",
     "text": [
      "\n",
      "33it [00:08,  3.80it/s]\u001b[A"
     ]
    },
    {
     "name": "stdout",
     "output_type": "stream",
     "text": [
      "Mouse J048, Starting loop 1/1\n",
      "[3.8] [37]\n",
      "Mouse J048, Starting loop 1/1\n",
      "[3.8] [37]\n"
     ]
    },
    {
     "name": "stderr",
     "output_type": "stream",
     "text": [
      "\n",
      "34it [00:09,  3.81it/s]\u001b[A"
     ]
    },
    {
     "name": "stdout",
     "output_type": "stream",
     "text": [
      "Mouse J048, Starting loop 1/1\n",
      "[4.] [38]\n",
      "Mouse J048, Starting loop 1/1\n",
      "[4.] [38]\n"
     ]
    },
    {
     "name": "stderr",
     "output_type": "stream",
     "text": [
      "\n",
      "35it [00:09,  3.83it/s]\u001b[A"
     ]
    },
    {
     "name": "stdout",
     "output_type": "stream",
     "text": [
      "Mouse J048, Starting loop 1/1\n",
      "[4.2] [39]\n",
      "Mouse J048, Starting loop 1/1\n",
      "[4.2] [39]\n"
     ]
    },
    {
     "name": "stderr",
     "output_type": "stream",
     "text": [
      "\n",
      "36it [00:09,  3.84it/s]\u001b[A"
     ]
    },
    {
     "name": "stdout",
     "output_type": "stream",
     "text": [
      "Mouse J048, Starting loop 1/1\n",
      "[4.4] [40]\n",
      "Mouse J048, Starting loop 1/1\n",
      "[4.4] [40]\n"
     ]
    },
    {
     "name": "stderr",
     "output_type": "stream",
     "text": [
      "\n",
      "37it [00:09,  3.83it/s]\u001b[A"
     ]
    },
    {
     "name": "stdout",
     "output_type": "stream",
     "text": [
      "Mouse J048, Starting loop 1/1\n",
      "[4.6] [41]\n",
      "Mouse J048, Starting loop 1/1\n",
      "[4.6] [41]\n"
     ]
    },
    {
     "name": "stderr",
     "output_type": "stream",
     "text": [
      "\n",
      "38it [00:10,  3.83it/s]\u001b[A"
     ]
    },
    {
     "name": "stdout",
     "output_type": "stream",
     "text": [
      "Mouse J048, Starting loop 1/1\n",
      "[4.8] [42]\n",
      "Mouse J048, Starting loop 1/1\n",
      "[4.8] [42]\n"
     ]
    },
    {
     "name": "stderr",
     "output_type": "stream",
     "text": [
      "\n",
      "39it [00:10,  3.84it/s]\u001b[A"
     ]
    },
    {
     "name": "stdout",
     "output_type": "stream",
     "text": [
      "Mouse J048, Starting loop 1/1\n",
      "[5.] [43]\n",
      "Mouse J048, Starting loop 1/1\n",
      "[5.] [43]\n"
     ]
    },
    {
     "name": "stderr",
     "output_type": "stream",
     "text": [
      "\n",
      "40it [00:10,  3.83it/s]\u001b[A"
     ]
    },
    {
     "name": "stdout",
     "output_type": "stream",
     "text": [
      "Mouse J048, Starting loop 1/1\n",
      "[5.2] [44]\n",
      "Mouse J048, Starting loop 1/1\n",
      "[5.2] [44]\n"
     ]
    },
    {
     "name": "stderr",
     "output_type": "stream",
     "text": [
      "\n",
      "41it [00:10,  3.82it/s]\u001b[A"
     ]
    },
    {
     "name": "stdout",
     "output_type": "stream",
     "text": [
      "Mouse J048, Starting loop 1/1\n",
      "[5.4] [45]\n",
      "Mouse J048, Starting loop 1/1\n",
      "[5.4] [45]\n"
     ]
    },
    {
     "name": "stderr",
     "output_type": "stream",
     "text": [
      "\n",
      "42it [00:11,  3.81it/s]\u001b[A"
     ]
    },
    {
     "name": "stdout",
     "output_type": "stream",
     "text": [
      "Mouse J048, Starting loop 1/1\n",
      "[5.6] [46]\n",
      "Mouse J048, Starting loop 1/1\n",
      "[5.6] [46]\n"
     ]
    },
    {
     "name": "stderr",
     "output_type": "stream",
     "text": [
      "\n",
      "43it [00:11,  3.82it/s]\u001b[A"
     ]
    },
    {
     "name": "stdout",
     "output_type": "stream",
     "text": [
      "Mouse J048, Starting loop 1/1\n",
      "[5.8] [47]\n",
      "Mouse J048, Starting loop 1/1\n",
      "[5.8] [47]\n"
     ]
    },
    {
     "name": "stderr",
     "output_type": "stream",
     "text": [
      "\n",
      "44it [00:11,  3.83it/s]\u001b[A"
     ]
    },
    {
     "name": "stdout",
     "output_type": "stream",
     "text": [
      "Mouse J048, Starting loop 1/1\n",
      "[6.] [48]\n",
      "Mouse J048, Starting loop 1/1\n",
      "[6.] [48]\n"
     ]
    },
    {
     "name": "stderr",
     "output_type": "stream",
     "text": [
      "\n",
      "45it [00:11,  3.82it/s]\u001b[A"
     ]
    },
    {
     "name": "stdout",
     "output_type": "stream",
     "text": [
      "Mouse J048, Starting loop 1/1\n",
      "[6.2] [49]\n",
      "Mouse J048, Starting loop 1/1\n",
      "[6.2] [49]\n"
     ]
    },
    {
     "name": "stderr",
     "output_type": "stream",
     "text": [
      "\n",
      "46it [00:12,  3.75it/s]\u001b[A\n"
     ]
    }
   ],
   "source": [
    "## Integrate different imaging frequencies:\n",
    "freqs = np.unique([ss.frequency for _, ss in sessions.items()])\n",
    "tp_dict = {}\n",
    "for ff in freqs:\n",
    "    for _, ss in sessions.items():   # assume pre_seconds & post_seconds equal for all sessions\n",
    "        if ss.frequency == ff:\n",
    "            tp_dict[ff] = ss.filter_ps_time\n",
    "if len(freqs) == 2:  # for hard-coded bit next up\n",
    "    tp_dict['mutual'] = np.intersect1d(ar1=tp_dict[freqs[0]], ar2=tp_dict[freqs[1]])\n",
    "elif len(freqs) == 1:\n",
    "    tp_dict['mutual'] = tp_dict[freqs[0]]\n",
    "## Compute results\n",
    "(lick_acc, lick_acc_split, ps_acc, ps_acc_split, lick_half, \n",
    "     angle_dec) = compute_accuracy_time_array(sessions=sessions, time_array=tp_dict['mutual'],\n",
    "                                              projected_data=False, \n",
    "                                              average_fun=mean_accuracy_pred)"
   ]
  },
  {
   "cell_type": "code",
   "execution_count": 38,
   "metadata": {},
   "outputs": [
    {
     "data": {
      "image/png": "[encoded data removed]",
      "text/plain": [
       "<Figure size 504x360 with 1 Axes>"
      ]
     },
     "metadata": {},
     "output_type": "display_data"
    }
   ],
   "source": [
    "plt.rcParams['figure.figsize'] = (7, 5)\n",
    "ax_acc = plt.subplot(111)\n",
    "\n",
    "color_dict_stand = {}\n",
    "for ii, x in enumerate(plt.rcParams['axes.prop_cycle']()):\n",
    "    color_dict_stand[ii] = x['color']\n",
    "    if ii > 8:\n",
    "        break\n",
    "        \n",
    "def plot_interrupted_trace(ax, time_array, plot_array, llabel='', bool_plot_std=False,\n",
    "                           plot_laser=True, ccolor='grey', plot_indiv=True,\n",
    "                           plot_groupav=True):\n",
    "\n",
    "    breakpoint = np.argmax(np.diff(time_array)) + 1# finds the 0, equivalent to art_gap_start\n",
    "    time_1 = time_array[:breakpoint]\n",
    "    time_2 = time_array[breakpoint:]\n",
    "    mouse_list = list(plot_array.keys())\n",
    "    linest = {'s1': '-', 's2': '--'}\n",
    "    average_mean = {x: np.zeros(plot_array[mouse_list[0]].shape[0]) for x in region_list}\n",
    "    for mouse in mouse_list:\n",
    "        reg = mouse[-2:]\n",
    "        if plot_array[mouse].ndim == 2:\n",
    "            plot_mean = plot_array[mouse][:, 0]\n",
    "        elif plot_array[mouse].ndim == 1:\n",
    "            plot_mean = plot_array[mouse]\n",
    "        average_mean[mouse[-2:]] += plot_mean / len(mouse_list) * 2\n",
    "    #     plot_std = plot_array[:, 1]\n",
    "    #     if bool_plot_std:\n",
    "    #         ax_acc.fill_between(x=time_1, y1=plot_mean[:breakpoint] - plot_std[:breakpoint],\n",
    "    #                            y2=plot_mean[:breakpoint] + plot_std[:breakpoint], color=ccolor, alpha=0.2)\n",
    "    #         ax_acc.fill_between(x=time_2, y1=plot_mean[breakpoint:] - plot_std[breakpoint:],\n",
    "    #                            y2=plot_mean[breakpoint:] + plot_std[breakpoint:], color=ccolor, alpha=0.2)\n",
    "        if plot_indiv:\n",
    "            ax_acc.plot(time_1, plot_mean[:breakpoint],  linewidth=3, linestyle=linest[reg], \n",
    "                        markersize=12, color=ccolor, label=None, alpha=0.2)\n",
    "            ax_acc.plot(time_2, plot_mean[breakpoint:],  linewidth=3, linestyle=linest[reg], \n",
    "                        markersize=12, color=ccolor, alpha=0.2, label=None)\n",
    "    if plot_groupav:\n",
    "        for rr, av_mean in average_mean.items():\n",
    "            ax_acc.plot(time_1, av_mean[:breakpoint],  linewidth=3, linestyle=linest[rr], \n",
    "                            markersize=12, color=ccolor, label=llabel + f' {rr.upper()}', alpha=0.9)\n",
    "            ax_acc.plot(time_2, av_mean[breakpoint:], linewidth=3, linestyle=linest[rr], \n",
    "                        markersize=12, color=ccolor, alpha=0.9, label=None)\n",
    "    if plot_laser:\n",
    "        ax_acc.axvspan(xmin=time_1[-1] + 1 / freq, xmax=time_2[0] - 1 / freq, ymin=0.1, ymax=0.9, alpha=0.2, label=None)\n",
    "    return ax_acc\n",
    "\n",
    "\n",
    "mouse_list = np.unique([ss.mouse for _, ss in sessions.items()])\n",
    "region_list=['s1', 's2']\n",
    "freq = 5\n",
    "new_time = tp_dict['mutual']\n",
    "# if 'pred_dec_test' in df_prediction_test[mouse_list[0]].columns:\n",
    "# plot_interrupted_trace(ax=ax_acc\n",
    "#                        , plot_array=lick_acc, bool_plot_std=False,\n",
    "#                        llabel='decision', ccolor=(0.00784313725490196, 0.6196078431372549, 0.45098039215686275))\n",
    "# # if 'pred_stim_test' in df_prediction_test[mouse_list[0]].columns:\n",
    "# plot_interrupted_trace(ax=ax_acc, plot_array=ps_acc, llabel='ps', ccolor=(0.5803921568627451, 0.5803921568627451, 0.5803921568627451))\n",
    "\n",
    "# plot_dict_split = ps_acc_split\n",
    "# for iplot, key in enumerate(np.sort(np.array(list(plot_dict_split.keys())))):\n",
    "#     dict_part = plot_dict_split[key]\n",
    "#     plot_interrupted_trace(ax=ax_acc, plot_array=dict_part, llabel=str(key), \n",
    "#                            ccolor=color_dict_stand[iplot], plot_indiv=True)\n",
    "\n",
    "plot_interrupted_trace(ax=ax_acc, time_array=new_time, plot_array=angle_dec, llabel='Angle')\n",
    "\n",
    "# plot_interrupted_trace(ax=ax_acc, plot_array=lick_half, bool_plot_std=False, llabel='0.5')\n",
    "ax_acc.set_xlabel('Time from stimulus onset (s)'); ax_acc.set_ylabel('Angle (deg)')\n",
    "ax_acc.legend(); ax_acc.set_title('Angle between PS and Lick decoders, function of 1 time point');\n",
    "# plt.xlim([180, 220])\n",
    "sns.despine()"
   ]
  },
  {
   "cell_type": "code",
   "execution_count": 39,
   "metadata": {},
   "outputs": [],
   "source": [
    "tp_list = new_time[np.array([15, 23, 33])]\n",
    "dict_df_test = {reg: {} for reg in region_list}\n",
    "for reg in region_list:\n",
    "    for tp in tp_list:\n",
    "        _, dict_df_test[reg][tp] = train_test_all_sessions(sessions=sessions, verbose=0,# n_split=n_split,\n",
    "                                                      trial_times_use=np.array([tp]),\n",
    "                                                 hitmiss_only=False,# list_test=['dec', 'stim'],\n",
    "                                                 include_autoreward=True, neurons_selection=reg,\n",
    "                                                 C_value=0.02, cv_regularizer=False, train_projected=True)\n"
   ]
  },
  {
   "cell_type": "code",
   "execution_count": null,
   "metadata": {},
   "outputs": [],
   "source": [
    "## Complete fig:\n",
    "\n",
    "plt.rcParams['figure.figsize'] = (12, 12)\n",
    "plt.subplots_adjust(wspace=0.2, hspace=0.6)\n",
    "ax_acc = plt.subplot(4, 1, (1, 2))\n",
    "plot_interrupted_trace(ax=ax_acc,  time_array=new_time, plot_array=ps_acc,\n",
    "                       llabel='Average', ccolor=(0.5803921568627451, 0.5803921568627451, 0.5803921568627451))\n",
    "\n",
    "plot_dict_split = ps_acc_split\n",
    "label_split = {0: 'No lick', 1: 'Lick'}\n",
    "for iplot, key in enumerate(np.sort(np.array(list(plot_dict_split.keys())))):\n",
    "    dict_part = plot_dict_split[key]\n",
    "    plot_interrupted_trace(ax=ax_acc, time_array=new_time, plot_array=dict_part, llabel=label_split[key], \n",
    "                           ccolor=color_dict_stand[iplot], plot_indiv=True, plot_laser=False)\n",
    "\n",
    "ax_acc.set_xlabel('Time from stimulus onset (s)'); ax_acc.set_ylabel('Accuracy')\n",
    "ax_acc.legend(loc='upper left'); ax_acc.set_title('Dynamic decoding of Photo Stimulation (PS), sliding function of 1 time point');\n",
    "ax_acc.set_ylim([0.39, 1])\n",
    "mouse = 'J048'\n",
    "ax_tp = {}\n",
    "for i_reg, reg in enumerate(region_list):\n",
    "    for i_tp, tp in enumerate(tp_list):\n",
    "        plt.subplot(4, 3, i_tp + 7 + (3 * i_reg))\n",
    "        plot_df_stats(df=dict_df_test[reg][tp][mouse], xx='true_stim_test', yy='pred_stim_test', hh='true_dec_test')  # set hh=None or hh='dec_test'\n",
    "        plt.xlabel('Number of cells PS'); plt.title(f'Time: {tp}s, {reg.upper()}', weight='bold'); plt.legend([])\n",
    "        plt.ylim([-0.05, 1.05])\n",
    "        ax_acc.scatter([tp], [.45], marker='^', s=50, color='k')\n",
    "        ax_acc.text(s=f'{tp}s', x=tp - 0.22, y=0.42)\n",
    "        if i_tp == 0:\n",
    "             plt.ylabel(f'Predicted PS Prob. {reg.upper()}'); \n",
    "        else:\n",
    "            plt.ylabel('')\n",
    "\n",
    "sns.despine()"
   ]
  },
  {
   "cell_type": "code",
   "execution_count": null,
   "metadata": {},
   "outputs": [],
   "source": [
    "## Complete fig:\n",
    "\n",
    "plt.rcParams['figure.figsize'] = (12, 12)\n",
    "plt.subplots_adjust(wspace=0.2, hspace=0.6)\n",
    "ax_acc = plt.subplot(4, 1, (1, 2))\n",
    "plot_interrupted_trace(ax=ax_acc,  time_array=new_time,plot_array=lick_acc, llabel='Average', ccolor=(0.5803921568627451, 0.5803921568627451, 0.5803921568627451))\n",
    "\n",
    "# plot_dict_split = ps_acc_split\n",
    "# label_split = {0: 'No lick', 1: 'Lick'}\n",
    "# for iplot, key in enumerate(np.sort(np.array(list(plot_dict_split.keys())))):\n",
    "#     dict_part = plot_dict_split[key]\n",
    "#     plot_interrupted_trace(ax=ax_acc, time_array=new_time, plot_array=dict_part, llabel=label_split[key], \n",
    "#                            ccolor=color_dict_stand[iplot], plot_indiv=True, plot_laser=False)\n",
    "\n",
    "ax_acc.set_xlabel('Time from stimulus onset (s)'); ax_acc.set_ylabel('Accuracy')\n",
    "ax_acc.legend(loc='upper left'); ax_acc.set_title('Dynamic decoding of Photo Stimulation (PS), sliding function of 1 time point');\n",
    "ax_acc.set_ylim([0.39, 1])\n",
    "# reg = 's2'\n",
    "mouse = 'RL048'\n",
    "ax_tp = {}\n",
    "for i_reg, reg in enumerate(region_list):\n",
    "    for i_tp, tp in enumerate(tp_list):\n",
    "        plt.subplot(4, 3, i_tp + 7 + (3 * i_reg))\n",
    "        plot_df_stats(df=dict_df_test[reg][tp][mouse], xx='true_dec_test', yy='pred_dec_test', hh=None)  # set hh=None or hh='dec_test'\n",
    "        plt.xlabel('Number of cells PS'); plt.title(f'Time: {tp}s, {reg.upper()}', weight='bold'); plt.legend([])\n",
    "        plt.ylim([-0.05, 1.05])\n",
    "        ax_acc.scatter([tp], [.45], marker='^', s=50, color='k')\n",
    "        ax_acc.text(s=f'{tp}s', x=tp - 0.22, y=0.42)\n",
    "        if i_tp == 0:\n",
    "             plt.ylabel(f'Predicted PS Prob. {reg.upper()}'); \n",
    "        else:\n",
    "            plt.ylabel('')\n",
    "\n",
    "sns.despine()"
   ]
  },
  {
   "cell_type": "code",
   "execution_count": 19,
   "metadata": {},
   "outputs": [
    {
     "name": "stdout",
     "output_type": "stream",
     "text": [
      "(46,)\n",
      "19 23\n",
      "[ 0  1  2  3  4  5  6  7  8  9 10 11 12 13 14 15 16 17 18 23 24 25 26 27\n",
      " 28 29 30 31 32 33 34 35 36 37 38 39 40 41 42 43 44 45 46 47 48 49]\n",
      "5 Mouse J048, run 27\n",
      "30\n"
     ]
    },
    {
     "data": {
      "image/png": "[encoded data removed]",
      "text/plain": [
       "<Figure size 360x216 with 1 Axes>"
      ]
     },
     "metadata": {},
     "output_type": "display_data"
    }
   ],
   "source": [
    "plt.rcParams['figure.figsize'] = (5, 3)\n",
    "ss = sessions[0]\n",
    "plt.plot(np.mean(ss.behaviour_trials[:, ss.photostim < 2, :], (0, 1)), '.-')\n",
    "print(ss.filter_ps_array.shape)\n",
    "print(ss.art_gap_start, ss.art_gap_stop)\n",
    "print(ss.filter_ps_array)\n",
    "print(ss.frequency, ss)\n",
    "print(ss.post_frames)"
   ]
  },
  {
   "cell_type": "code",
   "execution_count": 20,
   "metadata": {},
   "outputs": [
    {
     "data": {
      "text/plain": [
       "[<matplotlib.lines.Line2D at 0x7f13855e3590>]"
      ]
     },
     "execution_count": 20,
     "metadata": {},
     "output_type": "execute_result"
    },
    {
     "data": {
      "image/png": "[encoded data removed]",
      "text/plain": [
       "<Figure size 360x216 with 1 Axes>"
      ]
     },
     "metadata": {},
     "output_type": "display_data"
    }
   ],
   "source": [
    "plt.plot(np.mean(ss.behaviour_trials[:, ss.photostim < 2, :][:, :, ss.filter_ps_array], (0, 1)))"
   ]
  },
  {
   "cell_type": "markdown",
   "metadata": {},
   "source": [
    "## ideas to improve / directions to go\n",
    "\n",
    "#### Current plot:\n",
    "\n",
    "- Quantify statistical significance between go/no go \n",
    "- S1 vs S2\n",
    "- Distribution weight matrix\n",
    "- plot \\Delta W(t, t-1)\n",
    "\n",
    "#### Try to find a function of the data that enhances the readout.\n",
    "\n",
    "- Dimensionality reduction (dPCA should be ideal, theoretically)\n",
    "\n",
    "- different integration of time points per neuron? (i.e. separate, some other function etc)\n",
    "\n",
    "- Try to find something that relates PS decoding to licking decoding\n",
    "\n",
    "#### S1 / S2 comparison\n",
    "\n",
    "- Add dynamic prediction between populations -> subspaces -> Same question as with semedo data (i.e. different neurons that predict S2 or decode stim)\n",
    "\n",
    "- We don't really find a difference between S1/S2 performance (-> large population?)\n",
    "\n",
    "- Use increasing/decreasing number of neurons"
   ]
  }
 ],
 "metadata": {
  "kernelspec": {
   "display_name": "Python 3",
   "language": "python",
   "name": "python3"
  },
  "language_info": {
   "codemirror_mode": {
    "name": "ipython",
    "version": 3
   },
   "file_extension": ".py",
   "mimetype": "text/x-python",
   "name": "python",
   "nbconvert_exporter": "python",
   "pygments_lexer": "ipython3",
   "version": "3.7.6"
  }
 },
 "nbformat": 4,
 "nbformat_minor": 4
}
