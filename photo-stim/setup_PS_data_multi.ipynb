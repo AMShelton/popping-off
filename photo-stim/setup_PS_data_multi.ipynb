{
 "cells": [
  {
   "cell_type": "code",
   "execution_count": 2,
   "metadata": {},
   "outputs": [],
   "source": [
    "# Path setup\n",
    "import sys\n",
    "import os\n",
    "path_to_vape = os.path.expanduser('~/Documents/code/Vape')\n",
    "sys.path.append(path_to_vape)\n",
    "sys.path.append(os.path.join(path_to_vape, 'jupyter'))\n",
    "sys.path.append(os.path.join(path_to_vape, 'utils'))\n",
    "\n",
    "# Folder containing mice folders with individual run pkls\n",
    "pkl_path = '/home/jrowland/Documents/code/Vape/run_pkls'"
   ]
  },
  {
   "cell_type": "code",
   "execution_count": null,
   "metadata": {},
   "outputs": [],
   "source": [
    "import numpy as np\n",
    "import matplotlib.pyplot as plt\n",
    "from mpl_toolkits.mplot3d import Axes3D\n",
    "import seaborn as sns\n",
    "import utils_funcs as utils\n",
    "import run_functions as rf\n",
    "from subsets_analysis import Subsets\n",
    "import pickle\n",
    "import sklearn.decomposition\n",
    "from cycler import cycler\n",
    "from Session import Session  # class that holds all data per session\n",
    "plt.rcParams['axes.prop_cycle'] = cycler(color=sns.color_palette('colorblind'))"
   ]
  },
  {
   "cell_type": "code",
   "execution_count": null,
   "metadata": {},
   "outputs": [],
   "source": [
    "## Load data\n",
    "sessions = {}\n",
    "\n",
    "def only_numerics(seq):\n",
    "    seq_type= type(seq)\n",
    "    return seq_type().join(filter(seq_type.isdigit, seq))\n",
    "\n",
    "def load_files(save_dict, data_dict, folder_path):\n",
    "    total_ds = 0\n",
    "    for mouse in data_dict.keys():\n",
    "        for run_number in data_dict[mouse]:\n",
    "            try:  # try/except framework to filter datasets that don't work - for whatever reason\n",
    "                save_dict[total_ds] = Session(mouse, run_number, folder_path,\n",
    "                                              post_seconds=8)\n",
    "                total_ds += 1\n",
    "                print(f'succesfully loaded mouse {mouse}, run {run_number}')\n",
    "            except AttributeError:\n",
    "                pass\n",
    "#                 print(f'error in mouse {mouse}, run {run_number}')\n",
    "    return save_dict, total_ds\n",
    "\n",
    "\n",
    "## Select all possible mouse/run combos:\n",
    "# pkl_path = '/mnt/qnap_jrowland/run_pkls'\n",
    "# all_mice = [x for x in os.listdir(pkl_path) if x[-4:] != '.pkl']\n",
    "# run_dict = {m: list(np.unique([int(only_numerics(x)) for x in os.listdir(pkl_path + f'/{m}')])) for m in all_mice}\n",
    "# run_dict = {'J064' : [10],\n",
    "#             'RL048': [23]}\n",
    "# sessions, total_ds = load_files(save_dict=sessions, data_dict=run_dict, folder_path=pkl_path)\n",
    "\n",
    "all_mice = [x for x in os.listdir(pkl_path) if x[-4:] != '.pkl']\n",
    "# all_mice = ['J048', 'RL048']\n",
    "run_dict = {m: list(np.unique([int(only_numerics(x)) for x in os.listdir(pkl_path + f'/{m}')])) for m in all_mice}\n",
    "# run_dict = {'J048': [27], 'RL070': [28, 29]}\n",
    "\n",
    "if 'J065' in run_dict.keys() and 14 in run_dict['J065']:\n",
    "    run_dict['J065'].remove(14)\n",
    "# del run_dict['J048']\n",
    "# del run_dict['RL048']\n",
    "sessions, total_ds = load_files(save_dict=sessions, data_dict=run_dict, folder_path=pkl_path)\n",
    "     \n",
    "print('The following sessions were loaded:')\n",
    "for _, ss in sessions.items():\n",
    "    print(ss, '- frequency:', ss.frequency)"
   ]
  }
 ],
 "metadata": {
  "kernelspec": {
   "display_name": "Python 3",
   "language": "python",
   "name": "python3"
  },
  "language_info": {
   "codemirror_mode": {
    "name": "ipython",
    "version": 3
   },
   "file_extension": ".py",
   "mimetype": "text/x-python",
   "name": "python",
   "nbconvert_exporter": "python",
   "pygments_lexer": "ipython3",
   "version": "3.7.4"
  }
 },
 "nbformat": 4,
 "nbformat_minor": 4
}
