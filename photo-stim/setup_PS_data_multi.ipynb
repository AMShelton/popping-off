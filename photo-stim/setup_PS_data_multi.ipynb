{
 "cells": [
  {
   "cell_type": "code",
   "execution_count": 6,
   "metadata": {},
   "outputs": [
    {
     "name": "stdout",
     "output_type": "stream",
     "text": [
      "The autoreload extension is already loaded. To reload it, use:\n",
      "  %reload_ext autoreload\n"
     ]
    }
   ],
   "source": [
    "%load_ext autoreload\n",
    "%autoreload 2\n",
    "# Path setup\n",
    "import sys\n",
    "import os\n",
    "path_to_vape = os.path.expanduser('~/Documents/code/Vape')\n",
    "sys.path.append(path_to_vape)\n",
    "sys.path.append(os.path.join(path_to_vape, 'jupyter'))\n",
    "sys.path.append(os.path.join(path_to_vape, 'utils'))\n",
    "\n",
    "# Folder containing mice folders with individual run pkls\n",
    "pkl_path = '/home/jrowland/Documents/code/Vape/run_pkls'"
   ]
  },
  {
   "cell_type": "code",
   "execution_count": 7,
   "metadata": {},
   "outputs": [],
   "source": [
    "import numpy as np\n",
    "import matplotlib.pyplot as plt\n",
    "from mpl_toolkits.mplot3d import Axes3D\n",
    "import seaborn as sns\n",
    "import utils_funcs as utils\n",
    "import run_functions as rf\n",
    "from subsets_analysis import Subsets\n",
    "import pickle\n",
    "import sklearn.decomposition\n",
    "from cycler import cycler\n",
    "from Session import Session  # class that holds all data per session\n",
    "plt.rcParams['axes.prop_cycle'] = cycler(color=sns.color_palette('colorblind'))"
   ]
  },
  {
   "cell_type": "code",
   "execution_count": 8,
   "metadata": {},
   "outputs": [],
   "source": [
    "### DO YOU WANT TO USE SPKS INSTEAD OF FLU\n",
    "use_spks = True"
   ]
  },
  {
   "cell_type": "code",
   "execution_count": 9,
   "metadata": {},
   "outputs": [
    {
     "name": "stdout",
     "output_type": "stream",
     "text": [
      "Now loading mouse RL070, run 22\n",
      "Now loading mouse RL070, run 23\n",
      "Now loading mouse RL070, run 24\n",
      "Now loading mouse RL070, run 27\n",
      "Now loading mouse RL070, run 28\n"
     ]
    },
    {
     "name": "stderr",
     "output_type": "stream",
     "text": [
      "\r",
      "  0%|          | 0/625 [00:00<?, ?it/s]"
     ]
    },
    {
     "name": "stdout",
     "output_type": "stream",
     "text": [
      "microcontroller trial starts occur on average -70.14 ms from galvo trial starts\n"
     ]
    },
    {
     "name": "stderr",
     "output_type": "stream",
     "text": [
      "100%|██████████| 625/625 [04:49<00:00,  2.16it/s]\n"
     ]
    },
    {
     "name": "stdout",
     "output_type": "stream",
     "text": [
      "0 / 625 cells filtered\n",
      "photo stim occurences: {0: 127, 1: 140, 2: 119}\n",
      "Occurence table:\n",
      "[[123.   4.]\n",
      " [119.  21.]\n",
      " [ 80.  39.]]\n",
      "373 / 373 non nan trials identified\n",
      "Numbers of PS cells: [  0   5  10  20  30  40  50 150]\n",
      "succesfully loaded mouse RL070, run 28\n",
      "Now loading mouse RL070, run 29\n"
     ]
    },
    {
     "name": "stderr",
     "output_type": "stream",
     "text": [
      "\r",
      "  0%|          | 0/718 [00:00<?, ?it/s]"
     ]
    },
    {
     "name": "stdout",
     "output_type": "stream",
     "text": [
      "microcontroller trial starts occur on average nan ms from galvo trial starts\n"
     ]
    },
    {
     "name": "stderr",
     "output_type": "stream",
     "text": [
      "100%|██████████| 718/718 [03:59<00:00,  3.00it/s]\n"
     ]
    },
    {
     "name": "stdout",
     "output_type": "stream",
     "text": [
      "0 / 718 cells filtered\n",
      "photo stim occurences: {0: 96, 1: 93, 2: 90}\n",
      "Occurence table:\n",
      "[[78. 18.]\n",
      " [46. 47.]\n",
      " [35. 55.]]\n",
      "261 / 261 non nan trials identified\n",
      "Numbers of PS cells: [  0   5  10  20  30  40  50 150]\n",
      "succesfully loaded mouse RL070, run 29\n",
      "Now loading mouse J047, run 7\n",
      "Now loading mouse J048, run 15\n",
      "Now loading mouse J048, run 16\n",
      "Now loading mouse J048, run 18\n",
      "Now loading mouse J048, run 19\n",
      "Now loading mouse J048, run 26\n",
      "Now loading mouse J048, run 27\n"
     ]
    },
    {
     "name": "stderr",
     "output_type": "stream",
     "text": [
      "  0%|          | 3/2101 [00:00<01:21, 25.77it/s]"
     ]
    },
    {
     "name": "stdout",
     "output_type": "stream",
     "text": [
      "microcontroller trial starts occur on average -73.26 ms from galvo trial starts\n"
     ]
    },
    {
     "name": "stderr",
     "output_type": "stream",
     "text": [
      "100%|██████████| 2101/2101 [01:10<00:00, 29.67it/s]\n"
     ]
    },
    {
     "name": "stdout",
     "output_type": "stream",
     "text": [
      "0 / 2101 cells filtered\n",
      "photo stim occurences: {0: 51, 1: 51, 2: 41}\n",
      "Occurence table:\n",
      "[[26. 25.]\n",
      " [25. 26.]\n",
      " [ 5. 36.]]\n",
      "130 / 130 non nan trials identified\n",
      "Numbers of PS cells: [  0   5  10  20  30  40  50 150]\n",
      "succesfully loaded mouse J048, run 27\n",
      "Now loading mouse J048, run 28\n"
     ]
    },
    {
     "name": "stderr",
     "output_type": "stream",
     "text": [
      "  0%|          | 2/2194 [00:00<02:12, 16.58it/s]"
     ]
    },
    {
     "name": "stdout",
     "output_type": "stream",
     "text": [
      "microcontroller trial starts occur on average nan ms from galvo trial starts\n"
     ]
    },
    {
     "name": "stderr",
     "output_type": "stream",
     "text": [
      "100%|██████████| 2194/2194 [01:24<00:00, 25.82it/s]\n"
     ]
    },
    {
     "name": "stdout",
     "output_type": "stream",
     "text": [
      "0 / 2194 cells filtered\n",
      "photo stim occurences: {0: 60, 1: 58, 2: 55}\n",
      "Occurence table:\n",
      "[[43. 17.]\n",
      " [24. 34.]\n",
      " [19. 36.]]\n",
      "160 / 160 non nan trials identified\n",
      "Numbers of PS cells: [  0   5  10  20  30  40  50 150]\n",
      "succesfully loaded mouse J048, run 28\n",
      "Now loading mouse J048, run 29\n"
     ]
    },
    {
     "name": "stderr",
     "output_type": "stream",
     "text": [
      "\r",
      "  0%|          | 0/1531 [00:00<?, ?it/s]"
     ]
    },
    {
     "name": "stdout",
     "output_type": "stream",
     "text": [
      "microcontroller trial starts occur on average nan ms from galvo trial starts\n"
     ]
    },
    {
     "name": "stderr",
     "output_type": "stream",
     "text": [
      "100%|██████████| 1531/1531 [02:49<00:00,  9.03it/s]\n"
     ]
    },
    {
     "name": "stdout",
     "output_type": "stream",
     "text": [
      "0 / 1531 cells filtered\n",
      "photo stim occurences: {0: 127, 1: 138, 2: 113}\n",
      "Occurence table:\n",
      "[[73. 54.]\n",
      " [59. 79.]\n",
      " [30. 83.]]\n",
      "303 / 303 non nan trials identified\n",
      "Numbers of PS cells: [  0   5  10  20  30  40  50 150]\n",
      "succesfully loaded mouse J048, run 29\n",
      "Now loading mouse J048, run 30\n"
     ]
    },
    {
     "name": "stderr",
     "output_type": "stream",
     "text": [
      "\r",
      "  0%|          | 0/2085 [00:00<?, ?it/s]"
     ]
    },
    {
     "name": "stdout",
     "output_type": "stream",
     "text": [
      "microcontroller trial starts occur on average -69.58 ms from galvo trial starts\n"
     ]
    },
    {
     "name": "stderr",
     "output_type": "stream",
     "text": [
      "100%|██████████| 2085/2085 [02:33<00:00, 13.56it/s]\n"
     ]
    },
    {
     "name": "stdout",
     "output_type": "stream",
     "text": [
      "0 / 2085 cells filtered\n",
      "photo stim occurences: {0: 88, 1: 84, 2: 63}\n",
      "Occurence table:\n",
      "[[56. 32.]\n",
      " [31. 53.]\n",
      " [ 9. 54.]]\n",
      "208 / 208 non nan trials identified\n",
      "Numbers of PS cells: [  0   5  10  20  30  40  50 150]\n",
      "succesfully loaded mouse J048, run 30\n",
      "Now loading mouse J048, run 31\n",
      "Now loading mouse J048, run 32\n"
     ]
    },
    {
     "name": "stderr",
     "output_type": "stream",
     "text": [
      "\r",
      "  0%|          | 0/1972 [00:00<?, ?it/s]"
     ]
    },
    {
     "name": "stdout",
     "output_type": "stream",
     "text": [
      "microcontroller trial starts occur on average nan ms from galvo trial starts\n"
     ]
    },
    {
     "name": "stderr",
     "output_type": "stream",
     "text": [
      "100%|██████████| 1972/1972 [03:12<00:00, 10.24it/s]\n"
     ]
    },
    {
     "name": "stdout",
     "output_type": "stream",
     "text": [
      "0 / 1972 cells filtered\n",
      "photo stim occurences: {0: 94, 1: 82, 2: 98}\n",
      "Occurence table:\n",
      "[[67. 27.]\n",
      " [42. 40.]\n",
      " [31. 67.]]\n",
      "254 / 254 non nan trials identified\n",
      "Numbers of PS cells: [  0   5  10  20  30  40  50 150]\n",
      "succesfully loaded mouse J048, run 32\n",
      "Now loading mouse RL022, run 5\n",
      "Now loading mouse RL022, run 7\n",
      "Now loading mouse RL022, run 11\n",
      "Now loading mouse RL022, run 13\n",
      "Now loading mouse RL022, run 14\n",
      "Now loading mouse J064, run 10\n"
     ]
    },
    {
     "name": "stderr",
     "output_type": "stream",
     "text": [
      "\r",
      "  0%|          | 0/477 [00:00<?, ?it/s]"
     ]
    },
    {
     "name": "stdout",
     "output_type": "stream",
     "text": [
      "microcontroller trial starts occur on average nan ms from galvo trial starts\n"
     ]
    },
    {
     "name": "stderr",
     "output_type": "stream",
     "text": [
      "100%|██████████| 477/477 [04:41<00:00,  1.69it/s]\n"
     ]
    },
    {
     "name": "stdout",
     "output_type": "stream",
     "text": [
      "0 / 477 cells filtered\n",
      "photo stim occurences: {0: 66, 1: 58, 2: 49}\n",
      "Occurence table:\n",
      "[[38. 28.]\n",
      " [20. 38.]\n",
      " [ 6. 43.]]\n",
      "162 / 162 non nan trials identified\n",
      "Numbers of PS cells: [  0   5  10  20  30  40  50 150]\n",
      "succesfully loaded mouse J064, run 10\n",
      "Now loading mouse J064, run 11\n",
      "microcontroller trial starts occur on average -52.47 ms from galvo trial starts\n"
     ]
    },
    {
     "name": "stderr",
     "output_type": "stream",
     "text": [
      "100%|██████████| 802/802 [06:33<00:00,  2.04it/s]\n"
     ]
    },
    {
     "name": "stdout",
     "output_type": "stream",
     "text": [
      "0 / 802 cells filtered\n",
      "photo stim occurences: {0: 46, 1: 66, 2: 64}\n",
      "Occurence table:\n",
      "[[33. 13.]\n",
      " [26. 40.]\n",
      " [ 8. 56.]]\n",
      "167 / 167 non nan trials identified\n",
      "Numbers of PS cells: [  0   5  10  20  30  40  50 150]\n",
      "succesfully loaded mouse J064, run 11\n",
      "Now loading mouse J064, run 12\n",
      "Now loading mouse J064, run 13\n",
      "Now loading mouse J064, run 14\n",
      "microcontroller trial starts occur on average nan ms from galvo trial starts\n"
     ]
    },
    {
     "name": "stderr",
     "output_type": "stream",
     "text": [
      "100%|██████████| 981/981 [10:56<00:00,  1.49it/s]\n"
     ]
    },
    {
     "name": "stdout",
     "output_type": "stream",
     "text": [
      "0 / 981 cells filtered\n",
      "photo stim occurences: {0: 63, 1: 82, 2: 76}\n",
      "Occurence table:\n",
      "[[37. 26.]\n",
      " [30. 52.]\n",
      " [ 9. 67.]]\n",
      "208 / 208 non nan trials identified\n",
      "Numbers of PS cells: [  0   5  10  20  30  40  50 150]\n",
      "succesfully loaded mouse J064, run 14\n",
      "Now loading mouse J064, run 15\n",
      "Now loading mouse RL072, run 19\n",
      "Now loading mouse RL072, run 20\n",
      "Now loading mouse RL072, run 21\n",
      "Now loading mouse RL072, run 24\n",
      "Now loading mouse J063, run 8\n"
     ]
    },
    {
     "name": "stderr",
     "output_type": "stream",
     "text": [
      "\r",
      "  0%|          | 0/160 [00:00<?, ?it/s]"
     ]
    },
    {
     "name": "stdout",
     "output_type": "stream",
     "text": [
      "microcontroller trial starts occur on average nan ms from galvo trial starts\n"
     ]
    },
    {
     "name": "stderr",
     "output_type": "stream",
     "text": [
      "100%|██████████| 160/160 [00:39<00:00,  4.05it/s]\n"
     ]
    },
    {
     "name": "stdout",
     "output_type": "stream",
     "text": [
      "0 / 160 cells filtered\n",
      "photo stim occurences: {0: 63, 1: 66, 2: 61}\n",
      "Occurence table:\n",
      "[[51. 12.]\n",
      " [48. 18.]\n",
      " [14. 47.]]\n",
      "113 / 113 non nan trials identified\n",
      "Numbers of PS cells: [  0   5  10  20  30  40  50 150]\n",
      "succesfully loaded mouse J063, run 8\n",
      "Now loading mouse J063, run 9\n",
      "microcontroller trial starts occur on average -71.64 ms from galvo trial starts\n"
     ]
    },
    {
     "name": "stderr",
     "output_type": "stream",
     "text": [
      "100%|██████████| 760/760 [06:44<00:00,  1.88it/s]\n"
     ]
    },
    {
     "name": "stdout",
     "output_type": "stream",
     "text": [
      "0 / 760 cells filtered\n",
      "photo stim occurences: {0: 66, 1: 76, 2: 78}\n",
      "Occurence table:\n",
      "[[46. 20.]\n",
      " [47. 29.]\n",
      " [ 9. 69.]]\n",
      "209 / 209 non nan trials identified\n",
      "Numbers of PS cells: [  0   5  10  20  30  40  50 150]\n",
      "succesfully loaded mouse J063, run 9\n",
      "Now loading mouse J063, run 10\n",
      "Now loading mouse J063, run 11\n",
      "Now loading mouse J063, run 12\n",
      "Now loading mouse J063, run 13\n",
      "Now loading mouse J063, run 14\n",
      "Now loading mouse RL023, run 5\n",
      "Now loading mouse RL023, run 7\n",
      "Now loading mouse RL023, run 8\n",
      "Now loading mouse RL023, run 9\n",
      "Now loading mouse RL023, run 11\n",
      "Now loading mouse RL023, run 12\n",
      "Now loading mouse RL048, run 14\n",
      "Now loading mouse RL048, run 23\n"
     ]
    },
    {
     "name": "stderr",
     "output_type": "stream",
     "text": [
      "\r",
      "  0%|          | 0/3571 [00:00<?, ?it/s]"
     ]
    },
    {
     "name": "stdout",
     "output_type": "stream",
     "text": [
      "microcontroller trial starts occur on average nan ms from galvo trial starts\n"
     ]
    },
    {
     "name": "stderr",
     "output_type": "stream",
     "text": [
      "100%|██████████| 3571/3571 [01:37<00:00, 36.45it/s]\n"
     ]
    },
    {
     "name": "stdout",
     "output_type": "stream",
     "text": [
      "0 / 3571 cells filtered\n",
      "photo stim occurences: {0: 62, 1: 52, 2: 56}\n",
      "Occurence table:\n",
      "[[56.  6.]\n",
      " [36. 16.]\n",
      " [20. 36.]]\n",
      "140 / 140 non nan trials identified\n",
      "Numbers of PS cells: [  0   5  10  20  30  40 150]\n",
      "succesfully loaded mouse RL048, run 23\n",
      "Now loading mouse RL048, run 24\n",
      "microcontroller trial starts occur on average nan ms from galvo trial starts\n"
     ]
    },
    {
     "name": "stderr",
     "output_type": "stream",
     "text": [
      "100%|██████████| 3063/3063 [02:02<00:00, 24.94it/s]\n"
     ]
    },
    {
     "name": "stdout",
     "output_type": "stream",
     "text": [
      "0 / 3063 cells filtered\n",
      "photo stim occurences: {0: 74, 1: 74, 2: 75}\n",
      "Occurence table:\n",
      "[[69.  5.]\n",
      " [51. 23.]\n",
      " [29. 46.]]\n",
      "151 / 151 non nan trials identified\n",
      "Numbers of PS cells: [  0   5  10  20  30  40  50 150]\n",
      "succesfully loaded mouse RL048, run 24\n",
      "Now loading mouse RL048, run 25\n",
      "microcontroller trial starts occur on average nan ms from galvo trial starts\n"
     ]
    },
    {
     "name": "stderr",
     "output_type": "stream",
     "text": [
      "100%|██████████| 2892/2892 [03:14<00:00, 14.83it/s]\n"
     ]
    },
    {
     "name": "stdout",
     "output_type": "stream",
     "text": [
      "0 / 2892 cells filtered\n",
      "photo stim occurences: {0: 164, 1: 135, 2: 144}\n",
      "Occurence table:\n",
      "[[151.  13.]\n",
      " [112.  23.]\n",
      " [ 90.  54.]]\n",
      "385 / 385 non nan trials identified\n",
      "Numbers of PS cells: [  0   5  10  20  30  40  50 150]\n",
      "succesfully loaded mouse RL048, run 25\n",
      "Now loading mouse RL048, run 28\n",
      "microcontroller trial starts occur on average -59.85 ms from galvo trial starts\n"
     ]
    },
    {
     "name": "stderr",
     "output_type": "stream",
     "text": [
      "100%|██████████| 2727/2727 [02:31<00:00, 17.95it/s]\n"
     ]
    },
    {
     "name": "stdout",
     "output_type": "stream",
     "text": [
      "0 / 2727 cells filtered\n",
      "photo stim occurences: {0: 120, 1: 113, 2: 108}\n",
      "Occurence table:\n",
      "[[117.   3.]\n",
      " [105.   8.]\n",
      " [ 75.  33.]]\n",
      "328 / 328 non nan trials identified\n",
      "Numbers of PS cells: [  0   5  10  20  30  40  50 150]\n",
      "succesfully loaded mouse RL048, run 28\n",
      "Now loading mouse RL048, run 29\n",
      "microcontroller trial starts occur on average nan ms from galvo trial starts\n"
     ]
    },
    {
     "name": "stderr",
     "output_type": "stream",
     "text": [
      "100%|██████████| 1992/1992 [01:24<00:00, 23.48it/s]\n"
     ]
    },
    {
     "name": "stdout",
     "output_type": "stream",
     "text": [
      "0 / 1992 cells filtered\n",
      "photo stim occurences: {0: 75, 1: 89, 2: 92}\n",
      "Occurence table:\n",
      "[[71.  4.]\n",
      " [85.  4.]\n",
      " [61. 31.]]\n",
      "245 / 245 non nan trials identified\n",
      "Numbers of PS cells: [  0   5  10  20  30  40  50 150]\n",
      "succesfully loaded mouse RL048, run 29\n",
      "Now loading mouse RL032, run 7\n",
      "Now loading mouse RL032, run 10\n",
      "Now loading mouse RL032, run 12\n",
      "Now loading mouse RL032, run 13\n",
      "Now loading mouse J065, run 10\n",
      "microcontroller trial starts occur on average nan ms from galvo trial starts\n"
     ]
    },
    {
     "name": "stderr",
     "output_type": "stream",
     "text": [
      "100%|██████████| 131/131 [01:36<00:00,  1.35it/s]\n"
     ]
    },
    {
     "name": "stdout",
     "output_type": "stream",
     "text": [
      "0 / 131 cells filtered\n",
      "photo stim occurences: {0: 67, 1: 75, 2: 69}\n",
      "Occurence table:\n",
      "[[38. 29.]\n",
      " [23. 52.]\n",
      " [ 4. 65.]]\n",
      "197 / 197 non nan trials identified\n",
      "Numbers of PS cells: [  0   5  10  20  30  40  50 150]\n",
      "succesfully loaded mouse J065, run 10\n",
      "Now loading mouse J065, run 11\n",
      "microcontroller trial starts occur on average nan ms from galvo trial starts\n"
     ]
    },
    {
     "name": "stderr",
     "output_type": "stream",
     "text": [
      "100%|██████████| 410/410 [03:47<00:00,  1.80it/s]\n"
     ]
    },
    {
     "name": "stdout",
     "output_type": "stream",
     "text": [
      "0 / 410 cells filtered\n",
      "photo stim occurences: {0: 64, 1: 65, 2: 75}\n",
      "Occurence table:\n",
      "[[23. 41.]\n",
      " [18. 47.]\n",
      " [ 9. 66.]]\n",
      "195 / 195 non nan trials identified\n",
      "Numbers of PS cells: [  0   5  10  20  30  40  50 150]\n",
      "succesfully loaded mouse J065, run 11\n",
      "Now loading mouse J065, run 12\n",
      "Now loading mouse J065, run 13\n",
      "Now loading mouse J065, run 15\n",
      "The following sessions were loaded:\n",
      "Mouse RL070, run 28 - frequency: 30\n",
      "Mouse RL070, run 29 - frequency: 30\n",
      "Mouse J048, run 27 - frequency: 5\n",
      "Mouse J048, run 28 - frequency: 5\n",
      "Mouse J048, run 29 - frequency: 5\n",
      "Mouse J048, run 30 - frequency: 5\n",
      "Mouse J048, run 32 - frequency: 5\n",
      "Mouse J064, run 10 - frequency: 30\n",
      "Mouse J064, run 11 - frequency: 30\n",
      "Mouse J064, run 14 - frequency: 30\n",
      "Mouse J063, run 8 - frequency: 30\n",
      "Mouse J063, run 9 - frequency: 30\n",
      "Mouse RL048, run 23 - frequency: 5\n",
      "Mouse RL048, run 24 - frequency: 5\n",
      "Mouse RL048, run 25 - frequency: 5\n",
      "Mouse RL048, run 28 - frequency: 5\n",
      "Mouse RL048, run 29 - frequency: 5\n",
      "Mouse J065, run 10 - frequency: 30\n",
      "Mouse J065, run 11 - frequency: 30\n"
     ]
    }
   ],
   "source": [
    "## Load data\n",
    "sessions = {}\n",
    "\n",
    "def only_numerics(seq):\n",
    "    seq_type= type(seq)\n",
    "    return seq_type().join(filter(seq_type.isdigit, seq))\n",
    "\n",
    "def load_files(save_dict, data_dict, folder_path):\n",
    "    total_ds = 0\n",
    "    for mouse in data_dict.keys():\n",
    "        for run_number in data_dict[mouse]:\n",
    "            try:  # try/except framework to filter datasets that don't work - for whatever reason\n",
    "                save_dict[total_ds] = Session(mouse, run_number, folder_path, pre_gap_seconds=0,\n",
    "                                              post_gap_seconds=0, post_seconds=8, use_spks=use_spks)\n",
    "                total_ds += 1\n",
    "                print(f'succesfully loaded mouse {mouse}, run {run_number}')\n",
    "            except AttributeError:\n",
    "                pass\n",
    "#                 print(f'error in mouse {mouse}, run {run_number}')\n",
    "    return save_dict, total_ds\n",
    "\n",
    "\n",
    "## Select all possible mouse/run combos:\n",
    "# pkl_path = '/mnt/qnap_jrowland/run_pkls'\n",
    "# all_mice = [x for x in os.listdir(pkl_path) if x[-4:] != '.pkl']\n",
    "# run_dict = {m: list(np.unique([int(only_numerics(x)) for x in os.listdir(pkl_path + f'/{m}')])) for m in all_mice}\n",
    "# run_dict = {'J064' : [10],\n",
    "#             'RL048': [23]}\n",
    "# sessions, total_ds = load_files(save_dict=sessions, data_dict=run_dict, folder_path=pkl_path)\n",
    "\n",
    "all_mice = [x for x in os.listdir(pkl_path) if x[-4:] != '.pkl']\n",
    "# all_mice = ['J048', 'RL048']\n",
    "run_dict = {m: list(np.unique([int(only_numerics(x)) for x in os.listdir(pkl_path + f'/{m}')])) for m in all_mice}\n",
    "#run_dict = {'J048': [27], 'RL070': [28, 29]}\n",
    "#run_dict = {'RL070': [29]}\n",
    "\n",
    "if 'J065' in run_dict.keys() and 14 in run_dict['J065']:\n",
    "    run_dict['J065'].remove(14)\n",
    "# del run_dict['J048']\n",
    "# del run_dict['RL048']\n",
    "sessions, total_ds = load_files(save_dict=sessions, data_dict=run_dict, folder_path=pkl_path)\n",
    "     \n",
    "print('The following sessions were loaded:')\n",
    "for _, ss in sessions.items():\n",
    "    print(ss, '- frequency:', ss.frequency)"
   ]
  },
  {
   "cell_type": "code",
   "execution_count": 16,
   "metadata": {},
   "outputs": [],
   "source": [
    "sessions_path = os.path.expanduser('~/mnt/qnap/session_pkls')\n",
    "\n",
    "\n",
    "for idx, session in sessions.items():\n",
    "    \n",
    "    if use_spks:\n",
    "        file_name = 'session{}_spks.pkl'.format(idx)\n",
    "    else:\n",
    "        file_name = 'session{}.pkl'.format(idx)\n",
    "    \n",
    "    file_path = os.path.join(sessions_path, file_name)\n",
    "    \n",
    "    with open(file_path, 'wb') as f:\n",
    "        pickle.dump(session, f, pickle.HIGHEST_PROTOCOL)"
   ]
  },
  {
   "cell_type": "code",
   "execution_count": 13,
   "metadata": {},
   "outputs": [
    {
     "data": {
      "text/plain": [
       "'/home/jrowland/mnt/qnap/Data/sessions_spks.pkl'"
      ]
     },
     "execution_count": 13,
     "metadata": {},
     "output_type": "execute_result"
    }
   ],
   "source": [
    "sessions_path"
   ]
  },
  {
   "cell_type": "code",
   "execution_count": null,
   "metadata": {},
   "outputs": [],
   "source": [
    "Session?\n"
   ]
  },
  {
   "cell_type": "code",
   "execution_count": null,
   "metadata": {},
   "outputs": [],
   "source": []
  },
  {
   "cell_type": "code",
   "execution_count": null,
   "metadata": {},
   "outputs": [],
   "source": []
  },
  {
   "cell_type": "code",
   "execution_count": null,
   "metadata": {},
   "outputs": [],
   "source": [
    "27130656 / 1e9"
   ]
  },
  {
   "cell_type": "code",
   "execution_count": null,
   "metadata": {},
   "outputs": [],
   "source": []
  }
 ],
 "metadata": {
  "kernelspec": {
   "display_name": "Python 3",
   "language": "python",
   "name": "python3"
  },
  "language_info": {
   "codemirror_mode": {
    "name": "ipython",
    "version": 3
   },
   "file_extension": ".py",
   "mimetype": "text/x-python",
   "name": "python",
   "nbconvert_exporter": "python",
   "pygments_lexer": "ipython3",
   "version": "3.7.4"
  }
 },
 "nbformat": 4,
 "nbformat_minor": 4
}
