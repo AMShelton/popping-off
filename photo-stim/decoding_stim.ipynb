{
 "cells": [
  {
   "cell_type": "code",
   "execution_count": 1,
   "metadata": {},
   "outputs": [
    {
     "name": "stderr",
     "output_type": "stream",
     "text": [
      "ERROR:root:File `'setup_notebook.ipynb.py'` not found.\n"
     ]
    },
    {
     "name": "stdout",
     "output_type": "stream",
     "text": [
      "Now loading mouse J048, run 27\n",
      "microcontroller trial starts occur on average -36.39 ms from galvo trial starts\n",
      "number of pre frames: 16, number of post frames 21\n",
      "Shape new array : (2101, 143, 37)\n",
      "(2101, 143, 37) (2101, 8, 32)\n",
      "photo stim occurences: {0: 51, 1: 51, 2: 41}\n",
      "Occurence table:\n",
      "[[26. 25.]\n",
      " [25. 26.]\n",
      " [ 5. 36.]]\n",
      "130 / 130 non nan trials identified\n",
      "Numbers of PS cells: [  0   5  10  20  30  40  50 150]\n",
      "Time array: [ 0  1  2  3  4  5  6  7  8  9 10 11 12 13 14 19 20 21 22 23 24 25 26 27\n",
      " 28 29 30 31 32 33 34 35 36]\n",
      "Now loading mouse J048, run 30\n",
      "microcontroller trial starts occur on average -37.0 ms from galvo trial starts\n",
      "number of pre frames: 16, number of post frames 21\n",
      "Shape new array : (2085, 235, 37)\n",
      "(2085, 235, 37) (2085, 8, 32)\n",
      "photo stim occurences: {0: 88, 1: 84, 2: 63}\n",
      "Occurence table:\n",
      "[[56. 32.]\n",
      " [31. 53.]\n",
      " [ 9. 54.]]\n",
      "209 / 209 non nan trials identified\n",
      "Numbers of PS cells: [  0   5  10  20  30  40  50 150]\n",
      "Time array: [ 0  1  2  3  4  5  6  7  8  9 10 11 12 13 14 19 20 21 22 23 24 25 26 27\n",
      " 28 29 30 31 32 33 34 35 36]\n",
      "Now loading mouse J048, run 32\n",
      "microcontroller trial starts occur on average nan ms from galvo trial starts\n",
      "number of pre frames: 16, number of post frames 21\n",
      "Shape new array : (1972, 274, 37)\n",
      "(1972, 274, 37) (1972, 8, 32)\n",
      "photo stim occurences: {0: 94, 1: 82, 2: 98}\n",
      "Occurence table:\n",
      "[[67. 27.]\n",
      " [42. 40.]\n",
      " [31. 67.]]\n",
      "255 / 255 non nan trials identified\n",
      "Numbers of PS cells: [  0   5  10  20  30  40  50 150]\n",
      "Time array: [ 0  1  2  3  4  5  6  7  8  9 10 11 12 13 14 19 20 21 22 23 24 25 26 27\n",
      " 28 29 30 31 32 33 34 35 36]\n",
      "------------------------------------\n",
      "3 sessions are loaded\n"
     ]
    }
   ],
   "source": [
    "%run setup_PS_data_multi.ipynb\n",
    "import pandas as pd\n",
    "from tqdm import tqdm\n",
    "print('------------------------------------')\n",
    "print(f'{len(sessions)} sessions are loaded')"
   ]
  },
  {
   "cell_type": "code",
   "execution_count": 6,
   "metadata": {},
   "outputs": [
    {
     "data": {
      "text/plain": [
       "80"
      ]
     },
     "execution_count": 6,
     "metadata": {},
     "output_type": "execute_result"
    }
   ],
   "source": []
  },
  {
   "cell_type": "markdown",
   "metadata": {},
   "source": [
    "# START"
   ]
  },
  {
   "cell_type": "code",
   "execution_count": 55,
   "metadata": {},
   "outputs": [],
   "source": [
    "cv_regularizer = False  # determine regularizer param with CV on training data\n",
    "include_150 = False  #NB: have not tried to implement this yet\n",
    "n_split = 4  # train /test  folds\n",
    "\n",
    "def fun_return_2d(data):  # possibly add fancy stuff\n",
    "    return np.mean(data, 2)\n"
   ]
  },
  {
   "cell_type": "code",
   "execution_count": 118,
   "metadata": {},
   "outputs": [],
   "source": [
    "def train_test_all_sessions(trial_times_use=None, verbose=2, list_test = ['dec']):\n",
    "    \n",
    "    name_list = []\n",
    "    for nn in list_test:\n",
    "        name_list.append('pred_' + nn)\n",
    "        name_list.append('true_' + nn)\n",
    "    dict_predictions_test ={x + '_test': np.array([]) for x in name_list}\n",
    "    dict_predictions_train ={x + '_train': np.array([]) for x in name_list}\n",
    "\n",
    "    for i_session, session in sessions.items():\n",
    "        if verbose >= 1:\n",
    "            print(f'Starting loop {i_session + 1}/{len(sessions)}')\n",
    "        if trial_times_use is None:\n",
    "            trial_times_use = session.filter_ps_array[(session.final_pre_gap_tp + 1):(session.final_pre_gap_tp + 6)]\n",
    "        n_trial_times_used = len(trial_times_use)\n",
    "\n",
    "        neurons_include = np.arange(session.behaviour_trials.shape[0])\n",
    "        # neurons_include = session.s2_bool\n",
    "\n",
    "        if include_150 is False:\n",
    "            trial_inds = np.where(session.photostim < 2)[0]\n",
    "        else:\n",
    "            trial_inds = np.arange(len(session.photostim))\n",
    "        \n",
    "        hitmiss_trials = np.where(np.logical_or(sessions[0].outcome == 'hit', sessions[0].outcome == 'miss'))[0]\n",
    "        print(f'Size hm {hitmiss_trials.size}, trial inds {trial_inds.size}')\n",
    "        trial_inds = np.intersect1d(trial_inds, hitmiss_trials)\n",
    "        if verbose == 2:\n",
    "            print(f'final size {trial_inds.size}')\n",
    "        n_trials = len(trial_inds)\n",
    "        \n",
    "        if verbose == 2:\n",
    "            print(f'Total number of trials is {n_trials}. Number of splits is {n_split}')\n",
    "\n",
    "        data_use = session.behaviour_trials[neurons_include, :, :]\n",
    "        data_use = data_use[:, :, trial_times_use]\n",
    "        data_use = data_use[:, trial_inds, :]\n",
    "        data_use = fun_return_2d(data_use)\n",
    "        stand_scale = sklearn.preprocessing.StandardScaler()\n",
    "        data_use = stand_scale.fit_transform(data_use)\n",
    "\n",
    "        sss = sklearn.model_selection.StratifiedKFold(n_splits=n_split)\n",
    "        if verbose == 2:\n",
    "            print(f'Number of licks: {np.sum(session.decision[trial_inds])}')\n",
    "        i_loop = 0\n",
    "        for train_inds, test_inds in sss.split(X=np.zeros(n_trials), y=session.photostim[trial_inds]):\n",
    "            train_data, test_data = data_use[:, train_inds], data_use[:, test_inds]\n",
    "            if i_loop == 0:\n",
    "                if verbose == 2:\n",
    "                    print(f'Shape train data {train_data.shape}, test data {test_data.shape}')\n",
    "\n",
    "            train_labels = {'stim': session.photostim[trial_inds[train_inds]],\n",
    "                            'dec': session.decision[trial_inds[train_inds]]}\n",
    "            test_labels = {'stim': session.photostim[trial_inds[test_inds]], \n",
    "                           'dec': session.decision[trial_inds[test_inds]]}\n",
    "            if verbose == 2:\n",
    "                print(f' Number of test licks {np.sum(test_labels[\"dec\"])}')\n",
    "            detailed_ps_labels = session.trial_subsets[trial_inds]\n",
    "\n",
    "            assert len(train_labels['dec']) == train_data.shape[1]\n",
    "            assert len(test_labels['stim']) == test_data.shape[1]\n",
    "\n",
    "            ## Train logistic regression model\n",
    "            dec = {}\n",
    "            if cv_regularizer:\n",
    "                reg_array = {'C': np.logspace(-3, 0, 20), 'class_weight': 'balanced'}\n",
    "                for x in list_test:\n",
    "                    grid = sklearn.model_selection.GridSearchCV(sklearn.linear_model.LogisticRegression(),\n",
    "                                                                reg_array, cv=5)\n",
    "                    grid.fit(X=train_data.transpose(), y=train_labels[x])\n",
    "                    if verbose == 2:\n",
    "                        print(grid.best_params_)\n",
    "                    dec[x] = sklearn.linear_model.LogisticRegression(C=grid.best_params_['C'],\n",
    "                                                         class_weight='balanced').fit(\n",
    "                            X=train_data.transpose(), y=train_labels[x])\n",
    "            else:\n",
    "                for x in list_test:\n",
    "                    dec[x] = sklearn.linear_model.LogisticRegression(C=0.2, class_weight='balanced').fit(\n",
    "                                    X=train_data.transpose(), y=train_labels[x])\n",
    "\n",
    "            pred_proba_train = {x: dec[x].predict_proba(X=train_data.transpose())[:, 1] for x in list_test}\n",
    "            pred_proba_test = {x: dec[x].predict_proba(X=test_data.transpose())[:, 1] for x in list_test}\n",
    "\n",
    "            for x in list_test:\n",
    "                dict_predictions_train[f'pred_{x}_train'] = np.concatenate((dict_predictions_train[f'pred_{x}_train'], pred_proba_train[x]))\n",
    "                dict_predictions_test[f'pred_{x}_test'] = np.concatenate((dict_predictions_test[f'pred_{x}_test'], pred_proba_test[x]))\n",
    "            if 'stim' in list_test:\n",
    "                dict_predictions_train['true_stim_train'] = np.concatenate((dict_predictions_train['true_stim_train'], detailed_ps_labels[train_inds]))\n",
    "                dict_predictions_test['true_stim_test'] = np.concatenate((dict_predictions_test['true_stim_test'], detailed_ps_labels[test_inds]))\n",
    "            dict_predictions_train['true_dec_train'] = np.concatenate((dict_predictions_train['true_dec_train'], train_labels['dec']))\n",
    "            dict_predictions_test['true_dec_test'] = np.concatenate((dict_predictions_test['true_dec_test'], test_labels['dec']))\n",
    "            i_loop += 1\n",
    "    if verbose == 2:\n",
    "        print(f'length test: {len(dict_predictions_test[\"true_dec_test\"])}')\n",
    "        \n",
    "    df_prediction_train = pd.DataFrame(dict_predictions_train)\n",
    "    df_prediction_test = pd.DataFrame(dict_predictions_test)\n",
    "    \n",
    "    return df_prediction_train, df_prediction_test"
   ]
  },
  {
   "cell_type": "code",
   "execution_count": null,
   "metadata": {},
   "outputs": [],
   "source": []
  },
  {
   "cell_type": "code",
   "execution_count": 124,
   "metadata": {
    "scrolled": false
   },
   "outputs": [
    {
     "name": "stdout",
     "output_type": "stream",
     "text": [
      "Starting loop 1/3\n",
      "Size hm 80, trial inds 93\n",
      "Starting loop 2/3\n",
      "Size hm 80, trial inds 153\n",
      "Starting loop 3/3\n",
      "Size hm 80, trial inds 164\n"
     ]
    },
    {
     "ename": "ValueError",
     "evalue": "Could not interpret input 'true_stim_test'",
     "output_type": "error",
     "traceback": [
      "\u001b[0;31m---------------------------------------------------------------------------\u001b[0m",
      "\u001b[0;31mValueError\u001b[0m                                Traceback (most recent call last)",
      "\u001b[0;32m<ipython-input-124-3cf0f423a4e4>\u001b[0m in \u001b[0;36m<module>\u001b[0;34m\u001b[0m\n\u001b[1;32m     32\u001b[0m \u001b[0;32mif\u001b[0m \u001b[0;34m'true_dec_train'\u001b[0m \u001b[0;32min\u001b[0m \u001b[0mdf_prediction_train\u001b[0m\u001b[0;34m.\u001b[0m\u001b[0mcolumns\u001b[0m\u001b[0;34m:\u001b[0m\u001b[0;34m\u001b[0m\u001b[0;34m\u001b[0m\u001b[0m\n\u001b[1;32m     33\u001b[0m     \u001b[0mplt\u001b[0m\u001b[0;34m.\u001b[0m\u001b[0msubplot\u001b[0m\u001b[0;34m(\u001b[0m\u001b[0;36m222\u001b[0m\u001b[0;34m)\u001b[0m\u001b[0;34m\u001b[0m\u001b[0;34m\u001b[0m\u001b[0m\n\u001b[0;32m---> 34\u001b[0;31m     \u001b[0mplot_df_stats\u001b[0m\u001b[0;34m(\u001b[0m\u001b[0mdf\u001b[0m\u001b[0;34m=\u001b[0m\u001b[0mdf_prediction_train\u001b[0m\u001b[0;34m,\u001b[0m \u001b[0mxx\u001b[0m\u001b[0;34m=\u001b[0m\u001b[0;34m'true_dec_train'\u001b[0m\u001b[0;34m,\u001b[0m \u001b[0myy\u001b[0m\u001b[0;34m=\u001b[0m\u001b[0;34m'pred_dec_train'\u001b[0m\u001b[0;34m,\u001b[0m \u001b[0mhh\u001b[0m\u001b[0;34m=\u001b[0m\u001b[0;34m'true_stim_test'\u001b[0m\u001b[0;34m,\u001b[0m \u001b[0mxticklabels\u001b[0m\u001b[0;34m=\u001b[0m\u001b[0;34m[\u001b[0m\u001b[0;34m'no lick'\u001b[0m\u001b[0;34m,\u001b[0m \u001b[0;34m'lick'\u001b[0m\u001b[0;34m]\u001b[0m\u001b[0;34m)\u001b[0m\u001b[0;34m\u001b[0m\u001b[0;34m\u001b[0m\u001b[0m\n\u001b[0m\u001b[1;32m     35\u001b[0m     \u001b[0mplt\u001b[0m\u001b[0;34m.\u001b[0m\u001b[0mxlabel\u001b[0m\u001b[0;34m(\u001b[0m\u001b[0;34m'Decision'\u001b[0m\u001b[0;34m)\u001b[0m\u001b[0;34m;\u001b[0m \u001b[0mplt\u001b[0m\u001b[0;34m.\u001b[0m\u001b[0mylabel\u001b[0m\u001b[0;34m(\u001b[0m\u001b[0;34m'Predicted probability of lick'\u001b[0m\u001b[0;34m)\u001b[0m\u001b[0;34m;\u001b[0m \u001b[0mplt\u001b[0m\u001b[0;34m.\u001b[0m\u001b[0mtitle\u001b[0m\u001b[0;34m(\u001b[0m\u001b[0;34m'TRAIN - LICK'\u001b[0m\u001b[0;34m,\u001b[0m \u001b[0mweight\u001b[0m\u001b[0;34m=\u001b[0m\u001b[0;34m'bold'\u001b[0m\u001b[0;34m)\u001b[0m\u001b[0;34m\u001b[0m\u001b[0;34m\u001b[0m\u001b[0m\n\u001b[1;32m     36\u001b[0m     \u001b[0mplt\u001b[0m\u001b[0;34m.\u001b[0m\u001b[0mlegend\u001b[0m\u001b[0;34m(\u001b[0m\u001b[0;34m'No lick'\u001b[0m\u001b[0;34m,\u001b[0m \u001b[0;34m'lick'\u001b[0m\u001b[0;34m)\u001b[0m\u001b[0;34m\u001b[0m\u001b[0;34m\u001b[0m\u001b[0m\n",
      "\u001b[0;32m<ipython-input-124-3cf0f423a4e4>\u001b[0m in \u001b[0;36mplot_df_stats\u001b[0;34m(df, xx, yy, hh, plot_line, xticklabels)\u001b[0m\n\u001b[1;32m     11\u001b[0m         \u001b[0msns\u001b[0m\u001b[0;34m.\u001b[0m\u001b[0mpointplot\u001b[0m\u001b[0;34m(\u001b[0m\u001b[0mdata\u001b[0m\u001b[0;34m=\u001b[0m\u001b[0mdf\u001b[0m\u001b[0;34m,\u001b[0m \u001b[0mx\u001b[0m\u001b[0;34m=\u001b[0m\u001b[0mxx\u001b[0m\u001b[0;34m,\u001b[0m \u001b[0my\u001b[0m\u001b[0;34m=\u001b[0m\u001b[0myy\u001b[0m\u001b[0;34m,\u001b[0m \u001b[0mcolor\u001b[0m\u001b[0;34m=\u001b[0m\u001b[0;34m'grey'\u001b[0m\u001b[0;34m,\u001b[0m \u001b[0mci\u001b[0m\u001b[0;34m=\u001b[0m\u001b[0;34m'sd'\u001b[0m\u001b[0;34m)\u001b[0m\u001b[0;34m\u001b[0m\u001b[0;34m\u001b[0m\u001b[0m\n\u001b[1;32m     12\u001b[0m     \u001b[0;32melif\u001b[0m \u001b[0mplot_line\u001b[0m \u001b[0;32mand\u001b[0m \u001b[0mhh\u001b[0m \u001b[0;32mis\u001b[0m \u001b[0;32mnot\u001b[0m \u001b[0;32mNone\u001b[0m\u001b[0;34m:\u001b[0m\u001b[0;34m\u001b[0m\u001b[0;34m\u001b[0m\u001b[0m\n\u001b[0;32m---> 13\u001b[0;31m         \u001b[0msns\u001b[0m\u001b[0;34m.\u001b[0m\u001b[0mpointplot\u001b[0m\u001b[0;34m(\u001b[0m\u001b[0mdata\u001b[0m\u001b[0;34m=\u001b[0m\u001b[0mdf\u001b[0m\u001b[0;34m,\u001b[0m \u001b[0mx\u001b[0m\u001b[0;34m=\u001b[0m\u001b[0mxx\u001b[0m\u001b[0;34m,\u001b[0m \u001b[0my\u001b[0m\u001b[0;34m=\u001b[0m\u001b[0myy\u001b[0m\u001b[0;34m,\u001b[0m \u001b[0mhue\u001b[0m\u001b[0;34m=\u001b[0m\u001b[0mhh\u001b[0m\u001b[0;34m,\u001b[0m \u001b[0mci\u001b[0m\u001b[0;34m=\u001b[0m\u001b[0;34m'sd'\u001b[0m\u001b[0;34m)\u001b[0m\u001b[0;34m\u001b[0m\u001b[0;34m\u001b[0m\u001b[0m\n\u001b[0m\u001b[1;32m     14\u001b[0m \u001b[0;31m#     elif plot_line and hh is not None:\u001b[0m\u001b[0;34m\u001b[0m\u001b[0;34m\u001b[0m\u001b[0;34m\u001b[0m\u001b[0m\n\u001b[1;32m     15\u001b[0m \u001b[0;34m\u001b[0m\u001b[0m\n",
      "\u001b[0;32m~/anaconda3/envs/py37/lib/python3.7/site-packages/seaborn/categorical.py\u001b[0m in \u001b[0;36mpointplot\u001b[0;34m(x, y, hue, data, order, hue_order, estimator, ci, n_boot, units, markers, linestyles, dodge, join, scale, orient, color, palette, errwidth, capsize, ax, **kwargs)\u001b[0m\n\u001b[1;32m   3333\u001b[0m                             \u001b[0mestimator\u001b[0m\u001b[0;34m,\u001b[0m \u001b[0mci\u001b[0m\u001b[0;34m,\u001b[0m \u001b[0mn_boot\u001b[0m\u001b[0;34m,\u001b[0m \u001b[0munits\u001b[0m\u001b[0;34m,\u001b[0m\u001b[0;34m\u001b[0m\u001b[0;34m\u001b[0m\u001b[0m\n\u001b[1;32m   3334\u001b[0m                             \u001b[0mmarkers\u001b[0m\u001b[0;34m,\u001b[0m \u001b[0mlinestyles\u001b[0m\u001b[0;34m,\u001b[0m \u001b[0mdodge\u001b[0m\u001b[0;34m,\u001b[0m \u001b[0mjoin\u001b[0m\u001b[0;34m,\u001b[0m \u001b[0mscale\u001b[0m\u001b[0;34m,\u001b[0m\u001b[0;34m\u001b[0m\u001b[0;34m\u001b[0m\u001b[0m\n\u001b[0;32m-> 3335\u001b[0;31m                             orient, color, palette, errwidth, capsize)\n\u001b[0m\u001b[1;32m   3336\u001b[0m \u001b[0;34m\u001b[0m\u001b[0m\n\u001b[1;32m   3337\u001b[0m     \u001b[0;32mif\u001b[0m \u001b[0max\u001b[0m \u001b[0;32mis\u001b[0m \u001b[0;32mNone\u001b[0m\u001b[0;34m:\u001b[0m\u001b[0;34m\u001b[0m\u001b[0;34m\u001b[0m\u001b[0m\n",
      "\u001b[0;32m~/anaconda3/envs/py37/lib/python3.7/site-packages/seaborn/categorical.py\u001b[0m in \u001b[0;36m__init__\u001b[0;34m(self, x, y, hue, data, order, hue_order, estimator, ci, n_boot, units, markers, linestyles, dodge, join, scale, orient, color, palette, errwidth, capsize)\u001b[0m\n\u001b[1;32m   1676\u001b[0m         \u001b[0;34m\"\"\"Initialize the plotter.\"\"\"\u001b[0m\u001b[0;34m\u001b[0m\u001b[0;34m\u001b[0m\u001b[0m\n\u001b[1;32m   1677\u001b[0m         self.establish_variables(x, y, hue, data, orient,\n\u001b[0;32m-> 1678\u001b[0;31m                                  order, hue_order, units)\n\u001b[0m\u001b[1;32m   1679\u001b[0m         \u001b[0mself\u001b[0m\u001b[0;34m.\u001b[0m\u001b[0mestablish_colors\u001b[0m\u001b[0;34m(\u001b[0m\u001b[0mcolor\u001b[0m\u001b[0;34m,\u001b[0m \u001b[0mpalette\u001b[0m\u001b[0;34m,\u001b[0m \u001b[0;36m1\u001b[0m\u001b[0;34m)\u001b[0m\u001b[0;34m\u001b[0m\u001b[0;34m\u001b[0m\u001b[0m\n\u001b[1;32m   1680\u001b[0m         \u001b[0mself\u001b[0m\u001b[0;34m.\u001b[0m\u001b[0mestimate_statistic\u001b[0m\u001b[0;34m(\u001b[0m\u001b[0mestimator\u001b[0m\u001b[0;34m,\u001b[0m \u001b[0mci\u001b[0m\u001b[0;34m,\u001b[0m \u001b[0mn_boot\u001b[0m\u001b[0;34m)\u001b[0m\u001b[0;34m\u001b[0m\u001b[0;34m\u001b[0m\u001b[0m\n",
      "\u001b[0;32m~/anaconda3/envs/py37/lib/python3.7/site-packages/seaborn/categorical.py\u001b[0m in \u001b[0;36mestablish_variables\u001b[0;34m(self, x, y, hue, data, orient, order, hue_order, units)\u001b[0m\n\u001b[1;32m    153\u001b[0m                 \u001b[0;32mif\u001b[0m \u001b[0misinstance\u001b[0m\u001b[0;34m(\u001b[0m\u001b[0minput\u001b[0m\u001b[0;34m,\u001b[0m \u001b[0mstring_types\u001b[0m\u001b[0;34m)\u001b[0m\u001b[0;34m:\u001b[0m\u001b[0;34m\u001b[0m\u001b[0;34m\u001b[0m\u001b[0m\n\u001b[1;32m    154\u001b[0m                     \u001b[0merr\u001b[0m \u001b[0;34m=\u001b[0m \u001b[0;34m\"Could not interpret input '{}'\"\u001b[0m\u001b[0;34m.\u001b[0m\u001b[0mformat\u001b[0m\u001b[0;34m(\u001b[0m\u001b[0minput\u001b[0m\u001b[0;34m)\u001b[0m\u001b[0;34m\u001b[0m\u001b[0;34m\u001b[0m\u001b[0m\n\u001b[0;32m--> 155\u001b[0;31m                     \u001b[0;32mraise\u001b[0m \u001b[0mValueError\u001b[0m\u001b[0;34m(\u001b[0m\u001b[0merr\u001b[0m\u001b[0;34m)\u001b[0m\u001b[0;34m\u001b[0m\u001b[0;34m\u001b[0m\u001b[0m\n\u001b[0m\u001b[1;32m    156\u001b[0m \u001b[0;34m\u001b[0m\u001b[0m\n\u001b[1;32m    157\u001b[0m             \u001b[0;31m# Figure out the plotting orientation\u001b[0m\u001b[0;34m\u001b[0m\u001b[0;34m\u001b[0m\u001b[0;34m\u001b[0m\u001b[0m\n",
      "\u001b[0;31mValueError\u001b[0m: Could not interpret input 'true_stim_test'"
     ]
    },
    {
     "data": {
      "image/png": "[encoded data removed]",
      "text/plain": [
       "<Figure size 864x720 with 1 Axes>"
      ]
     },
     "metadata": {},
     "output_type": "display_data"
    }
   ],
   "source": [
    "time_frame = 5\n",
    "\n",
    "df_prediction_train, df_prediction_test = train_test_all_sessions(verbose=1, \n",
    "                                              trial_times_use=np.array([time_frame]))\n",
    "\n",
    "plt.rcParams['figure.figsize'] = (12, 10)\n",
    "plt.subplots_adjust(wspace=0.3, hspace=0.4)\n",
    "\n",
    "def plot_df_stats(df, xx, yy, hh, plot_line=True, xticklabels=None):\n",
    "    if plot_line and hh is None:\n",
    "        sns.pointplot(data=df, x=xx, y=yy, color='grey', ci='sd')\n",
    "    elif plot_line and hh is not None:\n",
    "        sns.pointplot(data=df, x=xx, y=yy, hue=hh, ci='sd')\n",
    "#     elif plot_line and hh is not None:\n",
    "        \n",
    "    tmp = sns.stripplot(x=xx, y=yy, hue=hh, data=df, linewidth=1)\n",
    "    if xticklabels is not None:\n",
    "        tmp.set_xticklabels(xticklabels)\n",
    "    \n",
    "## NB: To not plot with hue, set hh=None\n",
    "if 'true_stim_train' in df_prediction_train.columns:\n",
    "    plt.subplot(221)\n",
    "    plot_df_stats(df=df_prediction_train, xx='true_stim_train', yy='pred_stim_train', hh='true_dec_train')  # set hh=None or hh='dec_train'\n",
    "    plt.xlabel('Number of cells PS'); plt.ylabel('Predicted probability of PS'); plt.title('TRAIN - PS', weight='bold')\n",
    "    plt.legend([])\n",
    "    \n",
    "    plt.subplot(223)\n",
    "    plot_df_stats(df=df_prediction_test, xx='true_stim_test', yy='pred_stim_test', hh='true_dec_test')  # set hh=None or hh='dec_test'\n",
    "    plt.xlabel('Number of cells PS'); plt.ylabel('Predicted probability of PS'); plt.title('TEST - PS', weight='bold')\n",
    "    plt.legend([])\n",
    "\n",
    "if 'true_dec_train' in df_prediction_train.columns:  \n",
    "    plt.subplot(222)\n",
    "    plot_df_stats(df=df_prediction_train, xx='true_dec_train', yy='pred_dec_train', hh='true_stim_test', xticklabels=['no lick', 'lick'])\n",
    "    plt.xlabel('Decision'); plt.ylabel('Predicted probability of lick'); plt.title('TRAIN - LICK', weight='bold')\n",
    "    plt.legend('No lick', 'lick')\n",
    "    \n",
    "    plt.subplot(224)\n",
    "    plot_df_stats(df=df_prediction_test, xx='true_dec_test', yy='pred_dec_test', hh='true_stim_test', xticklabels=['no lick', 'lick'])\n",
    "    plt.xlabel('Decision'); plt.ylabel('Predicted probability of lick'); plt.title('TEST - LICK', weight='bold');\n",
    "\n",
    "plt.suptitle(f'(Logistic Regression) decoding performance for frame {time_frame}: \\n{[str(sessions[x]) for x in range(len(sessions))]}\\n' + \n",
    "#              f'Left column shows Photostimulation (PS) decoding performance, right column shows lick decoding\\n' +\n",
    "             f'Top row shows train data; bottom row shows test data, {n_split} splits\\n');"
   ]
  },
  {
   "cell_type": "code",
   "execution_count": 36,
   "metadata": {},
   "outputs": [
    {
     "data": {
      "text/html": [
       "<div>\n",
       "<style scoped>\n",
       "    .dataframe tbody tr th:only-of-type {\n",
       "        vertical-align: middle;\n",
       "    }\n",
       "\n",
       "    .dataframe tbody tr th {\n",
       "        vertical-align: top;\n",
       "    }\n",
       "\n",
       "    .dataframe thead th {\n",
       "        text-align: right;\n",
       "    }\n",
       "</style>\n",
       "<table border=\"1\" class=\"dataframe\">\n",
       "  <thead>\n",
       "    <tr style=\"text-align: right;\">\n",
       "      <th></th>\n",
       "      <th>pred_dec_test</th>\n",
       "      <th>true_dec_test</th>\n",
       "      <th>pred_stim_test</th>\n",
       "      <th>true_stim_test</th>\n",
       "    </tr>\n",
       "  </thead>\n",
       "  <tbody>\n",
       "    <tr>\n",
       "      <th>0</th>\n",
       "      <td>0.180546</td>\n",
       "      <td>5.0</td>\n",
       "      <td>0.242146</td>\n",
       "      <td>5.0</td>\n",
       "    </tr>\n",
       "    <tr>\n",
       "      <th>1</th>\n",
       "      <td>0.634382</td>\n",
       "      <td>0.0</td>\n",
       "      <td>0.370951</td>\n",
       "      <td>0.0</td>\n",
       "    </tr>\n",
       "    <tr>\n",
       "      <th>2</th>\n",
       "      <td>0.655907</td>\n",
       "      <td>5.0</td>\n",
       "      <td>0.101533</td>\n",
       "      <td>5.0</td>\n",
       "    </tr>\n",
       "    <tr>\n",
       "      <th>3</th>\n",
       "      <td>0.594040</td>\n",
       "      <td>30.0</td>\n",
       "      <td>0.636445</td>\n",
       "      <td>30.0</td>\n",
       "    </tr>\n",
       "    <tr>\n",
       "      <th>4</th>\n",
       "      <td>0.400791</td>\n",
       "      <td>0.0</td>\n",
       "      <td>0.084268</td>\n",
       "      <td>0.0</td>\n",
       "    </tr>\n",
       "    <tr>\n",
       "      <th>...</th>\n",
       "      <td>...</td>\n",
       "      <td>...</td>\n",
       "      <td>...</td>\n",
       "      <td>...</td>\n",
       "    </tr>\n",
       "    <tr>\n",
       "      <th>405</th>\n",
       "      <td>0.049383</td>\n",
       "      <td>0.0</td>\n",
       "      <td>0.812873</td>\n",
       "      <td>0.0</td>\n",
       "    </tr>\n",
       "    <tr>\n",
       "      <th>406</th>\n",
       "      <td>0.003687</td>\n",
       "      <td>50.0</td>\n",
       "      <td>0.702671</td>\n",
       "      <td>50.0</td>\n",
       "    </tr>\n",
       "    <tr>\n",
       "      <th>407</th>\n",
       "      <td>0.025779</td>\n",
       "      <td>30.0</td>\n",
       "      <td>0.252181</td>\n",
       "      <td>30.0</td>\n",
       "    </tr>\n",
       "    <tr>\n",
       "      <th>408</th>\n",
       "      <td>0.059264</td>\n",
       "      <td>0.0</td>\n",
       "      <td>0.495253</td>\n",
       "      <td>0.0</td>\n",
       "    </tr>\n",
       "    <tr>\n",
       "      <th>409</th>\n",
       "      <td>0.015732</td>\n",
       "      <td>0.0</td>\n",
       "      <td>0.802229</td>\n",
       "      <td>0.0</td>\n",
       "    </tr>\n",
       "  </tbody>\n",
       "</table>\n",
       "<p>410 rows × 4 columns</p>\n",
       "</div>"
      ],
      "text/plain": [
       "     pred_dec_test  true_dec_test  pred_stim_test  true_stim_test\n",
       "0         0.180546            5.0        0.242146             5.0\n",
       "1         0.634382            0.0        0.370951             0.0\n",
       "2         0.655907            5.0        0.101533             5.0\n",
       "3         0.594040           30.0        0.636445            30.0\n",
       "4         0.400791            0.0        0.084268             0.0\n",
       "..             ...            ...             ...             ...\n",
       "405       0.049383            0.0        0.812873             0.0\n",
       "406       0.003687           50.0        0.702671            50.0\n",
       "407       0.025779           30.0        0.252181            30.0\n",
       "408       0.059264            0.0        0.495253             0.0\n",
       "409       0.015732            0.0        0.802229             0.0\n",
       "\n",
       "[410 rows x 4 columns]"
      ]
     },
     "execution_count": 36,
     "metadata": {},
     "output_type": "execute_result"
    }
   ],
   "source": [
    "df_prediction_test"
   ]
  },
  {
   "cell_type": "markdown",
   "metadata": {},
   "source": [
    "## Dynamic coding:"
   ]
  },
  {
   "cell_type": "code",
   "execution_count": 119,
   "metadata": {},
   "outputs": [
    {
     "name": "stderr",
     "output_type": "stream",
     "text": [
      "\r",
      "0it [00:00, ?it/s]"
     ]
    },
    {
     "name": "stdout",
     "output_type": "stream",
     "text": [
      "Size hm 80, trial inds 93\n",
      "Size hm 80, trial inds 153\n"
     ]
    },
    {
     "name": "stderr",
     "output_type": "stream",
     "text": [
      "\r",
      "1it [00:00,  2.22it/s]"
     ]
    },
    {
     "name": "stdout",
     "output_type": "stream",
     "text": [
      "Size hm 80, trial inds 164\n",
      "Size hm 80, trial inds 93\n",
      "Size hm 80, trial inds 153\n",
      "Size hm 80, trial inds 164\n"
     ]
    },
    {
     "name": "stderr",
     "output_type": "stream",
     "text": [
      "\r",
      "2it [00:00,  2.32it/s]"
     ]
    },
    {
     "name": "stdout",
     "output_type": "stream",
     "text": [
      "Size hm 80, trial inds 93\n",
      "Size hm 80, trial inds 153\n"
     ]
    },
    {
     "name": "stderr",
     "output_type": "stream",
     "text": [
      "\r",
      "3it [00:01,  2.41it/s]"
     ]
    },
    {
     "name": "stdout",
     "output_type": "stream",
     "text": [
      "Size hm 80, trial inds 164\n",
      "Size hm 80, trial inds 93\n",
      "Size hm 80, trial inds 153\n",
      "Size hm 80, trial inds 164\n"
     ]
    },
    {
     "name": "stderr",
     "output_type": "stream",
     "text": [
      "\r",
      "4it [00:01,  2.46it/s]"
     ]
    },
    {
     "name": "stdout",
     "output_type": "stream",
     "text": [
      "Size hm 80, trial inds 93\n",
      "Size hm 80, trial inds 153\n"
     ]
    },
    {
     "name": "stderr",
     "output_type": "stream",
     "text": [
      "\r",
      "5it [00:01,  2.51it/s]"
     ]
    },
    {
     "name": "stdout",
     "output_type": "stream",
     "text": [
      "Size hm 80, trial inds 164\n",
      "Size hm 80, trial inds 93\n",
      "Size hm 80, trial inds 153\n",
      "Size hm 80, trial inds 164\n"
     ]
    },
    {
     "name": "stderr",
     "output_type": "stream",
     "text": [
      "\r",
      "6it [00:02,  2.54it/s]"
     ]
    },
    {
     "name": "stdout",
     "output_type": "stream",
     "text": [
      "Size hm 80, trial inds 93\n",
      "Size hm 80, trial inds 153\n"
     ]
    },
    {
     "name": "stderr",
     "output_type": "stream",
     "text": [
      "\r",
      "7it [00:02,  2.57it/s]"
     ]
    },
    {
     "name": "stdout",
     "output_type": "stream",
     "text": [
      "Size hm 80, trial inds 164\n",
      "Size hm 80, trial inds 93\n",
      "Size hm 80, trial inds 153\n",
      "Size hm 80, trial inds 164\n"
     ]
    },
    {
     "name": "stderr",
     "output_type": "stream",
     "text": [
      "\r",
      "8it [00:03,  2.59it/s]"
     ]
    },
    {
     "name": "stdout",
     "output_type": "stream",
     "text": [
      "Size hm 80, trial inds 93\n",
      "Size hm 80, trial inds 153\n"
     ]
    },
    {
     "name": "stderr",
     "output_type": "stream",
     "text": [
      "\r",
      "9it [00:03,  2.61it/s]"
     ]
    },
    {
     "name": "stdout",
     "output_type": "stream",
     "text": [
      "Size hm 80, trial inds 164\n",
      "Size hm 80, trial inds 93\n",
      "Size hm 80, trial inds 153\n",
      "Size hm 80, trial inds 164\n"
     ]
    },
    {
     "name": "stderr",
     "output_type": "stream",
     "text": [
      "\r",
      "10it [00:03,  2.63it/s]"
     ]
    },
    {
     "name": "stdout",
     "output_type": "stream",
     "text": [
      "Size hm 80, trial inds 93\n",
      "Size hm 80, trial inds 153\n"
     ]
    },
    {
     "name": "stderr",
     "output_type": "stream",
     "text": [
      "\r",
      "11it [00:04,  2.63it/s]"
     ]
    },
    {
     "name": "stdout",
     "output_type": "stream",
     "text": [
      "Size hm 80, trial inds 164\n",
      "Size hm 80, trial inds 93\n",
      "Size hm 80, trial inds 153\n",
      "Size hm 80, trial inds 164\n"
     ]
    },
    {
     "name": "stderr",
     "output_type": "stream",
     "text": [
      "\r",
      "12it [00:04,  2.66it/s]"
     ]
    },
    {
     "name": "stdout",
     "output_type": "stream",
     "text": [
      "Size hm 80, trial inds 93\n",
      "Size hm 80, trial inds 153\n"
     ]
    },
    {
     "name": "stderr",
     "output_type": "stream",
     "text": [
      "\r",
      "13it [00:04,  2.65it/s]"
     ]
    },
    {
     "name": "stdout",
     "output_type": "stream",
     "text": [
      "Size hm 80, trial inds 164\n",
      "Size hm 80, trial inds 93\n",
      "Size hm 80, trial inds 153\n",
      "Size hm 80, trial inds 164\n"
     ]
    },
    {
     "name": "stderr",
     "output_type": "stream",
     "text": [
      "\r",
      "14it [00:05,  2.66it/s]"
     ]
    },
    {
     "name": "stdout",
     "output_type": "stream",
     "text": [
      "Size hm 80, trial inds 93\n",
      "Size hm 80, trial inds 153\n"
     ]
    },
    {
     "name": "stderr",
     "output_type": "stream",
     "text": [
      "\r",
      "15it [00:05,  2.65it/s]"
     ]
    },
    {
     "name": "stdout",
     "output_type": "stream",
     "text": [
      "Size hm 80, trial inds 164\n",
      "Size hm 80, trial inds 93\n",
      "Size hm 80, trial inds 153\n",
      "Size hm 80, trial inds 164\n"
     ]
    },
    {
     "name": "stderr",
     "output_type": "stream",
     "text": [
      "\r",
      "16it [00:06,  2.65it/s]"
     ]
    },
    {
     "name": "stdout",
     "output_type": "stream",
     "text": [
      "Size hm 80, trial inds 93\n",
      "Size hm 80, trial inds 153\n"
     ]
    },
    {
     "name": "stderr",
     "output_type": "stream",
     "text": [
      "\r",
      "17it [00:06,  2.65it/s]"
     ]
    },
    {
     "name": "stdout",
     "output_type": "stream",
     "text": [
      "Size hm 80, trial inds 164\n",
      "Size hm 80, trial inds 93\n",
      "Size hm 80, trial inds 153\n",
      "Size hm 80, trial inds 164\n"
     ]
    },
    {
     "name": "stderr",
     "output_type": "stream",
     "text": [
      "\r",
      "18it [00:06,  2.53it/s]"
     ]
    },
    {
     "name": "stdout",
     "output_type": "stream",
     "text": [
      "Size hm 80, trial inds 93\n",
      "Size hm 80, trial inds 153\n"
     ]
    },
    {
     "name": "stderr",
     "output_type": "stream",
     "text": [
      "\r",
      "19it [00:07,  2.37it/s]"
     ]
    },
    {
     "name": "stdout",
     "output_type": "stream",
     "text": [
      "Size hm 80, trial inds 164\n",
      "Size hm 80, trial inds 93\n",
      "Size hm 80, trial inds 153\n",
      "Size hm 80, trial inds 164\n"
     ]
    },
    {
     "name": "stderr",
     "output_type": "stream",
     "text": [
      "\r",
      "20it [00:07,  2.39it/s]"
     ]
    },
    {
     "name": "stdout",
     "output_type": "stream",
     "text": [
      "Size hm 80, trial inds 93\n",
      "Size hm 80, trial inds 153\n"
     ]
    },
    {
     "name": "stderr",
     "output_type": "stream",
     "text": [
      "\r",
      "21it [00:08,  2.46it/s]"
     ]
    },
    {
     "name": "stdout",
     "output_type": "stream",
     "text": [
      "Size hm 80, trial inds 164\n",
      "Size hm 80, trial inds 93\n",
      "Size hm 80, trial inds 153\n",
      "Size hm 80, trial inds 164\n"
     ]
    },
    {
     "name": "stderr",
     "output_type": "stream",
     "text": [
      "\r",
      "22it [00:08,  2.50it/s]"
     ]
    },
    {
     "name": "stdout",
     "output_type": "stream",
     "text": [
      "Size hm 80, trial inds 93\n",
      "Size hm 80, trial inds 153\n"
     ]
    },
    {
     "name": "stderr",
     "output_type": "stream",
     "text": [
      "\r",
      "23it [00:08,  2.50it/s]"
     ]
    },
    {
     "name": "stdout",
     "output_type": "stream",
     "text": [
      "Size hm 80, trial inds 164\n",
      "Size hm 80, trial inds 93\n",
      "Size hm 80, trial inds 153\n",
      "Size hm 80, trial inds 164\n"
     ]
    },
    {
     "name": "stderr",
     "output_type": "stream",
     "text": [
      "\r",
      "24it [00:09,  2.53it/s]"
     ]
    },
    {
     "name": "stdout",
     "output_type": "stream",
     "text": [
      "Size hm 80, trial inds 93\n",
      "Size hm 80, trial inds 153\n"
     ]
    },
    {
     "name": "stderr",
     "output_type": "stream",
     "text": [
      "\r",
      "25it [00:09,  2.56it/s]"
     ]
    },
    {
     "name": "stdout",
     "output_type": "stream",
     "text": [
      "Size hm 80, trial inds 164\n",
      "Size hm 80, trial inds 93\n",
      "Size hm 80, trial inds 153\n",
      "Size hm 80, trial inds 164\n"
     ]
    },
    {
     "name": "stderr",
     "output_type": "stream",
     "text": [
      "\r",
      "26it [00:10,  2.57it/s]"
     ]
    },
    {
     "name": "stdout",
     "output_type": "stream",
     "text": [
      "Size hm 80, trial inds 93\n",
      "Size hm 80, trial inds 153\n"
     ]
    },
    {
     "name": "stderr",
     "output_type": "stream",
     "text": [
      "\r",
      "27it [00:10,  2.59it/s]"
     ]
    },
    {
     "name": "stdout",
     "output_type": "stream",
     "text": [
      "Size hm 80, trial inds 164\n",
      "Size hm 80, trial inds 93\n",
      "Size hm 80, trial inds 153\n",
      "Size hm 80, trial inds 164\n"
     ]
    },
    {
     "name": "stderr",
     "output_type": "stream",
     "text": [
      "\r",
      "28it [00:10,  2.59it/s]"
     ]
    },
    {
     "name": "stdout",
     "output_type": "stream",
     "text": [
      "Size hm 80, trial inds 93\n",
      "Size hm 80, trial inds 153\n"
     ]
    },
    {
     "name": "stderr",
     "output_type": "stream",
     "text": [
      "\r",
      "29it [00:11,  2.56it/s]"
     ]
    },
    {
     "name": "stdout",
     "output_type": "stream",
     "text": [
      "Size hm 80, trial inds 164\n",
      "Size hm 80, trial inds 93\n",
      "Size hm 80, trial inds 153\n",
      "Size hm 80, trial inds 164\n"
     ]
    },
    {
     "name": "stderr",
     "output_type": "stream",
     "text": [
      "\r",
      "30it [00:11,  2.55it/s]"
     ]
    },
    {
     "name": "stdout",
     "output_type": "stream",
     "text": [
      "Size hm 80, trial inds 93\n",
      "Size hm 80, trial inds 153\n"
     ]
    },
    {
     "name": "stderr",
     "output_type": "stream",
     "text": [
      "\r",
      "31it [00:12,  2.56it/s]"
     ]
    },
    {
     "name": "stdout",
     "output_type": "stream",
     "text": [
      "Size hm 80, trial inds 164\n",
      "Size hm 80, trial inds 93\n",
      "Size hm 80, trial inds 153\n",
      "Size hm 80, trial inds 164\n"
     ]
    },
    {
     "name": "stderr",
     "output_type": "stream",
     "text": [
      "\r",
      "32it [00:12,  2.55it/s]"
     ]
    },
    {
     "name": "stdout",
     "output_type": "stream",
     "text": [
      "Size hm 80, trial inds 93\n",
      "Size hm 80, trial inds 153\n"
     ]
    },
    {
     "name": "stderr",
     "output_type": "stream",
     "text": [
      "33it [00:12,  2.56it/s]"
     ]
    },
    {
     "name": "stdout",
     "output_type": "stream",
     "text": [
      "Size hm 80, trial inds 164\n"
     ]
    },
    {
     "name": "stderr",
     "output_type": "stream",
     "text": [
      "\n"
     ]
    }
   ],
   "source": [
    "n_timepoints = len(sessions[0].filter_ps_array)\n",
    "cv_regularizer = False\n",
    "lick_acc = np.zeros(n_timepoints)\n",
    "ps_acc = np.zeros(n_timepoints)\n",
    "for i_tp, tp in tqdm(enumerate(sessions[0].filter_ps_array)):\n",
    "    df_prediction_train, df_prediction_test = train_test_all_sessions(trial_times_use=np.array([tp]), \n",
    "                                                                      verbose=0)\n",
    "    lick = df_prediction_test['true_dec_test']\n",
    "    pred_lick = df_prediction_test['pred_dec_test']\n",
    "    lick_acc[i_tp] = np.mean(lick * pred_lick + (1 - lick) * (1 - pred_lick))\n",
    "    \n",
    "#     ps = (df_prediction_test['true_stim_test'] > 0).astype('int')\n",
    "#     pred_ps = df_prediction_test['pred_stim_test']\n",
    "#     ps_acc[i_tp] = np.mean(ps * pred_ps + (1 - ps) * (1 - pred_ps))\n",
    "    "
   ]
  },
  {
   "cell_type": "code",
   "execution_count": 120,
   "metadata": {},
   "outputs": [
    {
     "data": {
      "image/png": "[encoded data removed]",
      "text/plain": [
       "<Figure size 504x360 with 1 Axes>"
      ]
     },
     "metadata": {},
     "output_type": "display_data"
    }
   ],
   "source": [
    "plt.rcParams['figure.figsize'] = (7, 5)\n",
    "ax_acc = plt.subplot(111)\n",
    "# for x in plt.rcParams['axes.prop_cycle']():\n",
    "#     print(x)\n",
    "def plot_interrupted_trace(ax, plot_array, llabel='', ccolor='grey'):\n",
    "    breakpoint = sessions[0].art_gap_start\n",
    "    time_1 = sessions[0].filter_ps_array[:breakpoint]\n",
    "    time_2 = sessions[0].filter_ps_array[breakpoint:]\n",
    "    \n",
    "    ax_acc.plot(time_1, plot_array[:breakpoint], '.-', linewidth=3, markersize=12, color=ccolor, label=llabel)\n",
    "    ax_acc.plot(time_2, plot_array[breakpoint:], '.-', linewidth=3, markersize=12, color=ccolor)\n",
    "    ax_acc.axvspan(xmin=time_1[-1] + 1, xmax=time_2[0] - 1, ymin=0.1, ymax=0.9, alpha=0.1)\n",
    "    return ax_acc\n",
    "\n",
    "plot_interrupted_trace(ax=ax_acc, plot_array=lick_acc, llabel='decision', ccolor=(0.00784313725490196, 0.6196078431372549, 0.45098039215686275))\n",
    "# plot_interrupted_trace(ax=ax_acc, plot_array=ps_acc, llabel='ps', ccolor=(0.5803921568627451, 0.5803921568627451, 0.5803921568627451))\n",
    "ax_acc.set_xlabel('Frame'); ax_acc.set_ylabel('Accuracy')\n",
    "ax_acc.legend(); ax_acc.set_title('Dynamic decoding performance, function of 1 time point');"
   ]
  },
  {
   "cell_type": "code",
   "execution_count": 122,
   "metadata": {},
   "outputs": [
    {
     "data": {
      "text/html": [
       "<div>\n",
       "<style scoped>\n",
       "    .dataframe tbody tr th:only-of-type {\n",
       "        vertical-align: middle;\n",
       "    }\n",
       "\n",
       "    .dataframe tbody tr th {\n",
       "        vertical-align: top;\n",
       "    }\n",
       "\n",
       "    .dataframe thead th {\n",
       "        text-align: right;\n",
       "    }\n",
       "</style>\n",
       "<table border=\"1\" class=\"dataframe\">\n",
       "  <thead>\n",
       "    <tr style=\"text-align: right;\">\n",
       "      <th></th>\n",
       "      <th>pred_dec_test</th>\n",
       "      <th>true_dec_test</th>\n",
       "    </tr>\n",
       "  </thead>\n",
       "  <tbody>\n",
       "    <tr>\n",
       "      <th>0</th>\n",
       "      <td>0.985344</td>\n",
       "      <td>1.0</td>\n",
       "    </tr>\n",
       "    <tr>\n",
       "      <th>1</th>\n",
       "      <td>0.990767</td>\n",
       "      <td>1.0</td>\n",
       "    </tr>\n",
       "    <tr>\n",
       "      <th>2</th>\n",
       "      <td>0.993581</td>\n",
       "      <td>1.0</td>\n",
       "    </tr>\n",
       "    <tr>\n",
       "      <th>3</th>\n",
       "      <td>0.988601</td>\n",
       "      <td>1.0</td>\n",
       "    </tr>\n",
       "    <tr>\n",
       "      <th>4</th>\n",
       "      <td>0.934793</td>\n",
       "      <td>0.0</td>\n",
       "    </tr>\n",
       "    <tr>\n",
       "      <th>...</th>\n",
       "      <td>...</td>\n",
       "      <td>...</td>\n",
       "    </tr>\n",
       "    <tr>\n",
       "      <th>142</th>\n",
       "      <td>0.157948</td>\n",
       "      <td>0.0</td>\n",
       "    </tr>\n",
       "    <tr>\n",
       "      <th>143</th>\n",
       "      <td>0.160881</td>\n",
       "      <td>0.0</td>\n",
       "    </tr>\n",
       "    <tr>\n",
       "      <th>144</th>\n",
       "      <td>0.004983</td>\n",
       "      <td>0.0</td>\n",
       "    </tr>\n",
       "    <tr>\n",
       "      <th>145</th>\n",
       "      <td>0.007447</td>\n",
       "      <td>0.0</td>\n",
       "    </tr>\n",
       "    <tr>\n",
       "      <th>146</th>\n",
       "      <td>0.008904</td>\n",
       "      <td>0.0</td>\n",
       "    </tr>\n",
       "  </tbody>\n",
       "</table>\n",
       "<p>147 rows × 2 columns</p>\n",
       "</div>"
      ],
      "text/plain": [
       "     pred_dec_test  true_dec_test\n",
       "0         0.985344            1.0\n",
       "1         0.990767            1.0\n",
       "2         0.993581            1.0\n",
       "3         0.988601            1.0\n",
       "4         0.934793            0.0\n",
       "..             ...            ...\n",
       "142       0.157948            0.0\n",
       "143       0.160881            0.0\n",
       "144       0.004983            0.0\n",
       "145       0.007447            0.0\n",
       "146       0.008904            0.0\n",
       "\n",
       "[147 rows x 2 columns]"
      ]
     },
     "execution_count": 122,
     "metadata": {},
     "output_type": "execute_result"
    }
   ],
   "source": [
    "df_prediction_test"
   ]
  },
  {
   "cell_type": "code",
   "execution_count": 99,
   "metadata": {},
   "outputs": [
    {
     "name": "stdout",
     "output_type": "stream",
     "text": [
      "{'color': (0.00392156862745098, 0.45098039215686275, 0.6980392156862745)}\n",
      "{'color': (0.8705882352941177, 0.5607843137254902, 0.0196078431372549)}\n",
      "{'color': (0.00784313725490196, 0.6196078431372549, 0.45098039215686275)}\n",
      "{'color': (0.8352941176470589, 0.3686274509803922, 0.0)}\n",
      "{'color': (0.8, 0.47058823529411764, 0.7372549019607844)}\n",
      "{'color': (0.792156862745098, 0.5686274509803921, 0.3803921568627451)}\n",
      "{'color': (0.984313725490196, 0.6862745098039216, 0.8941176470588236)}\n",
      "{'color': (0.5803921568627451, 0.5803921568627451, 0.5803921568627451)}\n",
      "{'color': (0.9254901960784314, 0.8823529411764706, 0.2)}\n",
      "{'color': (0.33725490196078434, 0.7058823529411765, 0.9137254901960784)}\n",
      "{'color': (0.00392156862745098, 0.45098039215686275, 0.6980392156862745)}\n",
      "{'color': (0.8705882352941177, 0.5607843137254902, 0.0196078431372549)}\n"
     ]
    }
   ],
   "source": [
    "# sessions[0].filter_ps_array\n",
    "for ii, x in enumerate(plt.rcParams['axes.prop_cycle']()):\n",
    "    print(x)\n",
    "    if ii > 10:\n",
    "        break"
   ]
  },
  {
   "cell_type": "markdown",
   "metadata": {},
   "source": [
    "## ideas to improve / directions to go\n",
    "\n",
    "#### Current plot:\n",
    "\n",
    "- Quantify statistical significance between go/no go \n",
    "- S1 vs S2\n",
    "- Distribution weight matrix\n",
    "- plot \\Delta W(t, t-1)\n",
    "\n",
    "#### Try to find a function of the data that enhances the readout.\n",
    "\n",
    "- Dimensionality reduction (dPCA should be ideal, theoretically)\n",
    "\n",
    "- different integration of time points per neuron? (i.e. separate, some other function etc)\n",
    "\n",
    "- Try to find something that relates PS decoding to licking decoding\n",
    "\n",
    "#### S1 / S2 comparison\n",
    "\n",
    "- Add dynamic prediction between populations -> subspaces -> Same question as with semedo data (i.e. different neurons that predict S2 or decode stim)\n",
    "\n",
    "- We don't really find a difference between S1/S2 performance (-> large population?)\n",
    "\n",
    "- Use increasing/decreasing number of neurons"
   ]
  }
 ],
 "metadata": {
  "kernelspec": {
   "display_name": "Python 3",
   "language": "python",
   "name": "python3"
  },
  "language_info": {
   "codemirror_mode": {
    "name": "ipython",
    "version": 3
   },
   "file_extension": ".py",
   "mimetype": "text/x-python",
   "name": "python",
   "nbconvert_exporter": "python",
   "pygments_lexer": "ipython3",
   "version": "3.7.6"
  }
 },
 "nbformat": 4,
 "nbformat_minor": 4
}
